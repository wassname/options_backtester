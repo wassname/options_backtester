{
 "cells": [
  {
   "cell_type": "code",
   "execution_count": 1,
   "metadata": {
    "ExecuteTime": {
     "end_time": "2022-07-04T05:14:26.134164Z",
     "start_time": "2022-07-04T05:14:26.129451Z"
    }
   },
   "outputs": [
    {
     "name": "stdout",
     "output_type": "stream",
     "text": [
      "/media/wassname/SGIronWolf/projects5/investing/options/options_backtester/../mori_opt_earnings/data/interim/optm_lz/opprcd\n"
     ]
    }
   ],
   "source": [
    "import os\n",
    "import sys\n",
    "from pathlib import Path\n",
    "BACKTESTER_DIR = Path(\".\").resolve().parent.parent\n",
    "\n",
    "DATA_DIR = BACKTESTER_DIR / '../mori_opt_earnings/data/interim/optm_lz/opprcd'\n",
    "print(DATA_DIR)\n",
    "OPTIONS_DATA = os.path.join(DATA_DIR, 'SPX_2017.csv')\n",
    "STOCKS_DATA = os.path.join(DATA_DIR, 'portfolio_data_2017.csv')\n",
    "sys.path.append(BACKTESTER_DIR) # Add backtester base dir to $PYTHONPATH"
   ]
  },
  {
   "cell_type": "code",
   "execution_count": 2,
   "metadata": {
    "ExecuteTime": {
     "end_time": "2022-07-04T05:14:26.196639Z",
     "start_time": "2022-07-04T05:14:26.135988Z"
    }
   },
   "outputs": [],
   "source": [
    "%load_ext autoreload\n",
    "%autoreload 2"
   ]
  },
  {
   "cell_type": "code",
   "execution_count": 3,
   "metadata": {
    "ExecuteTime": {
     "end_time": "2022-07-04T05:14:27.614543Z",
     "start_time": "2022-07-04T05:14:26.198651Z"
    }
   },
   "outputs": [
    {
     "name": "stderr",
     "output_type": "stream",
     "text": [
      "WARNING (theano.link.c.cmodule): install mkl with `conda install mkl-service`: No module named 'mkl'\n"
     ]
    }
   ],
   "source": [
    "import pyfolio as pf\n",
    "import matplotlib.pyplot as plt\n",
    "\n",
    "from backtester import Backtest\n",
    "from backtester.strategy import Strategy, StrategyLeg\n",
    "from backtester.enums import Type, Direction, Stock\n",
    "from backtester.datahandler import HistoricalOptionsData, TiingoData, Schema, OptionMetricsData\n",
    "from backtester.statistics import monthly_returns_heatmap, returns_histogram, returns_chart"
   ]
  },
  {
   "cell_type": "code",
   "execution_count": 4,
   "metadata": {
    "ExecuteTime": {
     "end_time": "2022-07-04T05:14:27.630807Z",
     "start_time": "2022-07-04T05:14:27.616095Z"
    }
   },
   "outputs": [],
   "source": [
    "plt.style.use(\"seaborn\")\n",
    "plt.rcParams[\"figure.figsize\"] = (14, 8)"
   ]
  },
  {
   "cell_type": "markdown",
   "metadata": {},
   "source": [
    "As an example, we run a 2017 backtest of a portfolio consisting of a 97% allocation in stocks and 3% in options. The backtest will run for the time period spanned by the data, performing periodic rebalances with a user given frequency. "
   ]
  },
  {
   "cell_type": "markdown",
   "metadata": {},
   "source": [
    "Stock data is taken from [Tiingo](https://api.tiingo.com)."
   ]
  },
  {
   "cell_type": "code",
   "execution_count": 5,
   "metadata": {
    "ExecuteTime": {
     "end_time": "2022-07-04T05:14:27.653688Z",
     "start_time": "2022-07-04T05:14:27.632164Z"
    }
   },
   "outputs": [
    {
     "data": {
      "text/plain": [
       "True"
      ]
     },
     "execution_count": 5,
     "metadata": {},
     "output_type": "execute_result"
    }
   ],
   "source": [
    "# %env TIINGO_API_KEY=your_tiingo_api_key\n",
    "from dotenv import load_dotenv\n",
    "import os\n",
    "load_dotenv()"
   ]
  },
  {
   "cell_type": "markdown",
   "metadata": {},
   "source": [
    "# Data"
   ]
  },
  {
   "cell_type": "markdown",
   "metadata": {},
   "source": [
    "## get_data_tiingo"
   ]
  },
  {
   "cell_type": "code",
   "execution_count": 6,
   "metadata": {
    "ExecuteTime": {
     "end_time": "2022-07-04T05:14:35.155346Z",
     "start_time": "2022-07-04T05:14:27.654936Z"
    }
   },
   "outputs": [
    {
     "name": "stderr",
     "output_type": "stream",
     "text": [
      "/home/wassname/miniforge3/envs/mori_opt_earnings/lib/python3.7/site-packages/pandas_datareader/tiingo.py:234: FutureWarning: In a future version of pandas all arguments of concat except for the argument 'objs' will be keyword-only\n",
      "  return pd.concat(dfs, self._concat_axis)\n"
     ]
    },
    {
     "data": {
      "text/html": [
       "<div>\n",
       "<style scoped>\n",
       "    .dataframe tbody tr th:only-of-type {\n",
       "        vertical-align: middle;\n",
       "    }\n",
       "\n",
       "    .dataframe tbody tr th {\n",
       "        vertical-align: top;\n",
       "    }\n",
       "\n",
       "    .dataframe thead th {\n",
       "        text-align: right;\n",
       "    }\n",
       "</style>\n",
       "<table border=\"1\" class=\"dataframe\">\n",
       "  <thead>\n",
       "    <tr style=\"text-align: right;\">\n",
       "      <th></th>\n",
       "      <th></th>\n",
       "      <th>close</th>\n",
       "      <th>high</th>\n",
       "      <th>low</th>\n",
       "      <th>open</th>\n",
       "      <th>volume</th>\n",
       "      <th>adjClose</th>\n",
       "      <th>adjHigh</th>\n",
       "      <th>adjLow</th>\n",
       "      <th>adjOpen</th>\n",
       "      <th>adjVolume</th>\n",
       "      <th>divCash</th>\n",
       "      <th>splitFactor</th>\n",
       "    </tr>\n",
       "    <tr>\n",
       "      <th>symbol</th>\n",
       "      <th>date</th>\n",
       "      <th></th>\n",
       "      <th></th>\n",
       "      <th></th>\n",
       "      <th></th>\n",
       "      <th></th>\n",
       "      <th></th>\n",
       "      <th></th>\n",
       "      <th></th>\n",
       "      <th></th>\n",
       "      <th></th>\n",
       "      <th></th>\n",
       "      <th></th>\n",
       "    </tr>\n",
       "  </thead>\n",
       "  <tbody>\n",
       "    <tr>\n",
       "      <th rowspan=\"5\" valign=\"top\">MSFT</th>\n",
       "      <th>1996-01-04 00:00:00+00:00</th>\n",
       "      <td>87.37</td>\n",
       "      <td>87.50</td>\n",
       "      <td>84.87</td>\n",
       "      <td>87.25</td>\n",
       "      <td>6397100</td>\n",
       "      <td>3.439386</td>\n",
       "      <td>3.444504</td>\n",
       "      <td>3.340972</td>\n",
       "      <td>3.434662</td>\n",
       "      <td>102353600</td>\n",
       "      <td>0.0</td>\n",
       "      <td>1.0</td>\n",
       "    </tr>\n",
       "    <tr>\n",
       "      <th>1996-01-05 00:00:00+00:00</th>\n",
       "      <td>86.37</td>\n",
       "      <td>87.62</td>\n",
       "      <td>86.12</td>\n",
       "      <td>86.25</td>\n",
       "      <td>3880200</td>\n",
       "      <td>3.400020</td>\n",
       "      <td>3.449227</td>\n",
       "      <td>3.390179</td>\n",
       "      <td>3.395296</td>\n",
       "      <td>62083200</td>\n",
       "      <td>0.0</td>\n",
       "      <td>1.0</td>\n",
       "    </tr>\n",
       "    <tr>\n",
       "      <th>1996-01-08 00:00:00+00:00</th>\n",
       "      <td>86.25</td>\n",
       "      <td>87.62</td>\n",
       "      <td>86.12</td>\n",
       "      <td>86.50</td>\n",
       "      <td>711100</td>\n",
       "      <td>3.395296</td>\n",
       "      <td>3.449227</td>\n",
       "      <td>3.390179</td>\n",
       "      <td>3.405138</td>\n",
       "      <td>11377600</td>\n",
       "      <td>0.0</td>\n",
       "      <td>1.0</td>\n",
       "    </tr>\n",
       "    <tr>\n",
       "      <th>1996-01-09 00:00:00+00:00</th>\n",
       "      <td>80.19</td>\n",
       "      <td>86.00</td>\n",
       "      <td>79.87</td>\n",
       "      <td>86.00</td>\n",
       "      <td>11089000</td>\n",
       "      <td>3.156740</td>\n",
       "      <td>3.385455</td>\n",
       "      <td>3.144143</td>\n",
       "      <td>3.385455</td>\n",
       "      <td>177424000</td>\n",
       "      <td>0.0</td>\n",
       "      <td>1.0</td>\n",
       "    </tr>\n",
       "    <tr>\n",
       "      <th>1996-01-10 00:00:00+00:00</th>\n",
       "      <td>82.37</td>\n",
       "      <td>83.25</td>\n",
       "      <td>80.48</td>\n",
       "      <td>80.50</td>\n",
       "      <td>11348200</td>\n",
       "      <td>3.242557</td>\n",
       "      <td>3.277199</td>\n",
       "      <td>3.168156</td>\n",
       "      <td>3.168943</td>\n",
       "      <td>181571200</td>\n",
       "      <td>0.0</td>\n",
       "      <td>1.0</td>\n",
       "    </tr>\n",
       "    <tr>\n",
       "      <th>...</th>\n",
       "      <th>...</th>\n",
       "      <td>...</td>\n",
       "      <td>...</td>\n",
       "      <td>...</td>\n",
       "      <td>...</td>\n",
       "      <td>...</td>\n",
       "      <td>...</td>\n",
       "      <td>...</td>\n",
       "      <td>...</td>\n",
       "      <td>...</td>\n",
       "      <td>...</td>\n",
       "      <td>...</td>\n",
       "      <td>...</td>\n",
       "    </tr>\n",
       "    <tr>\n",
       "      <th rowspan=\"5\" valign=\"top\">XOM</th>\n",
       "      <th>2019-06-24 00:00:00+00:00</th>\n",
       "      <td>76.95</td>\n",
       "      <td>77.76</td>\n",
       "      <td>76.81</td>\n",
       "      <td>77.53</td>\n",
       "      <td>10012236</td>\n",
       "      <td>64.097147</td>\n",
       "      <td>64.771854</td>\n",
       "      <td>63.980531</td>\n",
       "      <td>64.580270</td>\n",
       "      <td>10012236</td>\n",
       "      <td>0.0</td>\n",
       "      <td>1.0</td>\n",
       "    </tr>\n",
       "    <tr>\n",
       "      <th>2019-06-25 00:00:00+00:00</th>\n",
       "      <td>76.27</td>\n",
       "      <td>77.22</td>\n",
       "      <td>76.19</td>\n",
       "      <td>77.08</td>\n",
       "      <td>9739970</td>\n",
       "      <td>63.530727</td>\n",
       "      <td>64.322049</td>\n",
       "      <td>63.464089</td>\n",
       "      <td>64.205433</td>\n",
       "      <td>9739970</td>\n",
       "      <td>0.0</td>\n",
       "      <td>1.0</td>\n",
       "    </tr>\n",
       "    <tr>\n",
       "      <th>2019-06-26 00:00:00+00:00</th>\n",
       "      <td>76.60</td>\n",
       "      <td>77.13</td>\n",
       "      <td>76.47</td>\n",
       "      <td>76.68</td>\n",
       "      <td>11365476</td>\n",
       "      <td>63.805607</td>\n",
       "      <td>64.247082</td>\n",
       "      <td>63.697321</td>\n",
       "      <td>63.872245</td>\n",
       "      <td>11365476</td>\n",
       "      <td>0.0</td>\n",
       "      <td>1.0</td>\n",
       "    </tr>\n",
       "    <tr>\n",
       "      <th>2019-06-27 00:00:00+00:00</th>\n",
       "      <td>75.82</td>\n",
       "      <td>76.75</td>\n",
       "      <td>75.76</td>\n",
       "      <td>76.59</td>\n",
       "      <td>8147803</td>\n",
       "      <td>63.155889</td>\n",
       "      <td>63.930553</td>\n",
       "      <td>63.105911</td>\n",
       "      <td>63.797277</td>\n",
       "      <td>8147803</td>\n",
       "      <td>0.0</td>\n",
       "      <td>1.0</td>\n",
       "    </tr>\n",
       "    <tr>\n",
       "      <th>2019-06-28 00:00:00+00:00</th>\n",
       "      <td>76.63</td>\n",
       "      <td>76.73</td>\n",
       "      <td>75.94</td>\n",
       "      <td>76.19</td>\n",
       "      <td>14781298</td>\n",
       "      <td>63.830596</td>\n",
       "      <td>63.913893</td>\n",
       "      <td>63.255846</td>\n",
       "      <td>63.464089</td>\n",
       "      <td>14781298</td>\n",
       "      <td>0.0</td>\n",
       "      <td>1.0</td>\n",
       "    </tr>\n",
       "  </tbody>\n",
       "</table>\n",
       "<p>17736 rows × 12 columns</p>\n",
       "</div>"
      ],
      "text/plain": [
       "                                  close   high    low   open    volume  \\\n",
       "symbol date                                                              \n",
       "MSFT   1996-01-04 00:00:00+00:00  87.37  87.50  84.87  87.25   6397100   \n",
       "       1996-01-05 00:00:00+00:00  86.37  87.62  86.12  86.25   3880200   \n",
       "       1996-01-08 00:00:00+00:00  86.25  87.62  86.12  86.50    711100   \n",
       "       1996-01-09 00:00:00+00:00  80.19  86.00  79.87  86.00  11089000   \n",
       "       1996-01-10 00:00:00+00:00  82.37  83.25  80.48  80.50  11348200   \n",
       "...                                 ...    ...    ...    ...       ...   \n",
       "XOM    2019-06-24 00:00:00+00:00  76.95  77.76  76.81  77.53  10012236   \n",
       "       2019-06-25 00:00:00+00:00  76.27  77.22  76.19  77.08   9739970   \n",
       "       2019-06-26 00:00:00+00:00  76.60  77.13  76.47  76.68  11365476   \n",
       "       2019-06-27 00:00:00+00:00  75.82  76.75  75.76  76.59   8147803   \n",
       "       2019-06-28 00:00:00+00:00  76.63  76.73  75.94  76.19  14781298   \n",
       "\n",
       "                                   adjClose    adjHigh     adjLow    adjOpen  \\\n",
       "symbol date                                                                    \n",
       "MSFT   1996-01-04 00:00:00+00:00   3.439386   3.444504   3.340972   3.434662   \n",
       "       1996-01-05 00:00:00+00:00   3.400020   3.449227   3.390179   3.395296   \n",
       "       1996-01-08 00:00:00+00:00   3.395296   3.449227   3.390179   3.405138   \n",
       "       1996-01-09 00:00:00+00:00   3.156740   3.385455   3.144143   3.385455   \n",
       "       1996-01-10 00:00:00+00:00   3.242557   3.277199   3.168156   3.168943   \n",
       "...                                     ...        ...        ...        ...   \n",
       "XOM    2019-06-24 00:00:00+00:00  64.097147  64.771854  63.980531  64.580270   \n",
       "       2019-06-25 00:00:00+00:00  63.530727  64.322049  63.464089  64.205433   \n",
       "       2019-06-26 00:00:00+00:00  63.805607  64.247082  63.697321  63.872245   \n",
       "       2019-06-27 00:00:00+00:00  63.155889  63.930553  63.105911  63.797277   \n",
       "       2019-06-28 00:00:00+00:00  63.830596  63.913893  63.255846  63.464089   \n",
       "\n",
       "                                  adjVolume  divCash  splitFactor  \n",
       "symbol date                                                        \n",
       "MSFT   1996-01-04 00:00:00+00:00  102353600      0.0          1.0  \n",
       "       1996-01-05 00:00:00+00:00   62083200      0.0          1.0  \n",
       "       1996-01-08 00:00:00+00:00   11377600      0.0          1.0  \n",
       "       1996-01-09 00:00:00+00:00  177424000      0.0          1.0  \n",
       "       1996-01-10 00:00:00+00:00  181571200      0.0          1.0  \n",
       "...                                     ...      ...          ...  \n",
       "XOM    2019-06-24 00:00:00+00:00   10012236      0.0          1.0  \n",
       "       2019-06-25 00:00:00+00:00    9739970      0.0          1.0  \n",
       "       2019-06-26 00:00:00+00:00   11365476      0.0          1.0  \n",
       "       2019-06-27 00:00:00+00:00    8147803      0.0          1.0  \n",
       "       2019-06-28 00:00:00+00:00   14781298      0.0          1.0  \n",
       "\n",
       "[17736 rows x 12 columns]"
      ]
     },
     "execution_count": 6,
     "metadata": {},
     "output_type": "execute_result"
    }
   ],
   "source": [
    "import datetime\n",
    "import pandas_datareader as pdr\n",
    "# restricting to 1996-01-04 00:00:00 2019-06-28 00:00:00\n",
    "api_key = os.environ[\"TIINGO_API_KEY\"]\n",
    "start = datetime.datetime(1996, 1, 4)\n",
    "end = datetime.datetime(2019, 6, 28)\n",
    "tickers = [\"MSFT\", \"AAPL\", \"XOM\"] #, \"TUR\", \"RSX\", \"EWY\", \"EWS\", \"VTIP\", \"TLT\", \"BWX\", \"PDBC\", \"IAU\", \"VNQI\"]\n",
    "\n",
    "symbols = pdr.get_data_tiingo(tickers, api_key=api_key, start=start, end=end)\n",
    "symbols"
   ]
  },
  {
   "cell_type": "code",
   "execution_count": 7,
   "metadata": {
    "ExecuteTime": {
     "end_time": "2022-07-04T05:14:35.290745Z",
     "start_time": "2022-07-04T05:14:35.156786Z"
    }
   },
   "outputs": [],
   "source": [
    "save_path = os.path.join(DATA_DIR, 'portfolio_data_2017.csv')\n",
    "symbols.to_csv(save_path)"
   ]
  },
  {
   "cell_type": "code",
   "execution_count": null,
   "metadata": {},
   "outputs": [],
   "source": []
  },
  {
   "cell_type": "markdown",
   "metadata": {},
   "source": [
    "Use *TiingoData* to load your stocks csv. Data must include `date`, `adjClose` and `symbol` columns to work."
   ]
  },
  {
   "cell_type": "code",
   "execution_count": 8,
   "metadata": {
    "ExecuteTime": {
     "end_time": "2022-07-04T05:14:35.456256Z",
     "start_time": "2022-07-04T05:14:35.293159Z"
    }
   },
   "outputs": [
    {
     "data": {
      "text/html": [
       "<div>\n",
       "<style scoped>\n",
       "    .dataframe tbody tr th:only-of-type {\n",
       "        vertical-align: middle;\n",
       "    }\n",
       "\n",
       "    .dataframe tbody tr th {\n",
       "        vertical-align: top;\n",
       "    }\n",
       "\n",
       "    .dataframe thead th {\n",
       "        text-align: right;\n",
       "    }\n",
       "</style>\n",
       "<table border=\"1\" class=\"dataframe\">\n",
       "  <thead>\n",
       "    <tr style=\"text-align: right;\">\n",
       "      <th></th>\n",
       "      <th>symbol</th>\n",
       "      <th>date</th>\n",
       "      <th>close</th>\n",
       "      <th>high</th>\n",
       "      <th>low</th>\n",
       "      <th>open</th>\n",
       "      <th>volume</th>\n",
       "      <th>adjClose</th>\n",
       "      <th>adjHigh</th>\n",
       "      <th>adjLow</th>\n",
       "      <th>adjOpen</th>\n",
       "      <th>adjVolume</th>\n",
       "      <th>divCash</th>\n",
       "      <th>splitFactor</th>\n",
       "    </tr>\n",
       "  </thead>\n",
       "  <tbody>\n",
       "    <tr>\n",
       "      <th>0</th>\n",
       "      <td>MSFT</td>\n",
       "      <td>1996-01-04</td>\n",
       "      <td>87.37</td>\n",
       "      <td>87.50</td>\n",
       "      <td>84.87</td>\n",
       "      <td>87.25</td>\n",
       "      <td>6397100</td>\n",
       "      <td>3.439386</td>\n",
       "      <td>3.444504</td>\n",
       "      <td>3.340972</td>\n",
       "      <td>3.434662</td>\n",
       "      <td>102353600</td>\n",
       "      <td>0.0</td>\n",
       "      <td>1.0</td>\n",
       "    </tr>\n",
       "    <tr>\n",
       "      <th>1</th>\n",
       "      <td>MSFT</td>\n",
       "      <td>1996-01-05</td>\n",
       "      <td>86.37</td>\n",
       "      <td>87.62</td>\n",
       "      <td>86.12</td>\n",
       "      <td>86.25</td>\n",
       "      <td>3880200</td>\n",
       "      <td>3.400020</td>\n",
       "      <td>3.449227</td>\n",
       "      <td>3.390179</td>\n",
       "      <td>3.395296</td>\n",
       "      <td>62083200</td>\n",
       "      <td>0.0</td>\n",
       "      <td>1.0</td>\n",
       "    </tr>\n",
       "    <tr>\n",
       "      <th>2</th>\n",
       "      <td>MSFT</td>\n",
       "      <td>1996-01-08</td>\n",
       "      <td>86.25</td>\n",
       "      <td>87.62</td>\n",
       "      <td>86.12</td>\n",
       "      <td>86.50</td>\n",
       "      <td>711100</td>\n",
       "      <td>3.395296</td>\n",
       "      <td>3.449227</td>\n",
       "      <td>3.390179</td>\n",
       "      <td>3.405138</td>\n",
       "      <td>11377600</td>\n",
       "      <td>0.0</td>\n",
       "      <td>1.0</td>\n",
       "    </tr>\n",
       "    <tr>\n",
       "      <th>3</th>\n",
       "      <td>MSFT</td>\n",
       "      <td>1996-01-09</td>\n",
       "      <td>80.19</td>\n",
       "      <td>86.00</td>\n",
       "      <td>79.87</td>\n",
       "      <td>86.00</td>\n",
       "      <td>11089000</td>\n",
       "      <td>3.156740</td>\n",
       "      <td>3.385455</td>\n",
       "      <td>3.144143</td>\n",
       "      <td>3.385455</td>\n",
       "      <td>177424000</td>\n",
       "      <td>0.0</td>\n",
       "      <td>1.0</td>\n",
       "    </tr>\n",
       "    <tr>\n",
       "      <th>4</th>\n",
       "      <td>MSFT</td>\n",
       "      <td>1996-01-10</td>\n",
       "      <td>82.37</td>\n",
       "      <td>83.25</td>\n",
       "      <td>80.48</td>\n",
       "      <td>80.50</td>\n",
       "      <td>11348200</td>\n",
       "      <td>3.242557</td>\n",
       "      <td>3.277199</td>\n",
       "      <td>3.168156</td>\n",
       "      <td>3.168943</td>\n",
       "      <td>181571200</td>\n",
       "      <td>0.0</td>\n",
       "      <td>1.0</td>\n",
       "    </tr>\n",
       "  </tbody>\n",
       "</table>\n",
       "</div>"
      ],
      "text/plain": [
       "  symbol       date  close   high    low   open    volume  adjClose   adjHigh  \\\n",
       "0   MSFT 1996-01-04  87.37  87.50  84.87  87.25   6397100  3.439386  3.444504   \n",
       "1   MSFT 1996-01-05  86.37  87.62  86.12  86.25   3880200  3.400020  3.449227   \n",
       "2   MSFT 1996-01-08  86.25  87.62  86.12  86.50    711100  3.395296  3.449227   \n",
       "3   MSFT 1996-01-09  80.19  86.00  79.87  86.00  11089000  3.156740  3.385455   \n",
       "4   MSFT 1996-01-10  82.37  83.25  80.48  80.50  11348200  3.242557  3.277199   \n",
       "\n",
       "     adjLow   adjOpen  adjVolume  divCash  splitFactor  \n",
       "0  3.340972  3.434662  102353600      0.0          1.0  \n",
       "1  3.390179  3.395296   62083200      0.0          1.0  \n",
       "2  3.390179  3.405138   11377600      0.0          1.0  \n",
       "3  3.144143  3.385455  177424000      0.0          1.0  \n",
       "4  3.168156  3.168943  181571200      0.0          1.0  "
      ]
     },
     "execution_count": 8,
     "metadata": {},
     "output_type": "execute_result"
    }
   ],
   "source": [
    "stock_data = TiingoData(STOCKS_DATA)\n",
    "# remove tz\n",
    "stock_data['date']=stock_data['date'].dt.tz_localize(None)\n",
    "stock_data.start_date=stock_data.start_date.tz_localize(None)\n",
    "stock_data.end_date=stock_data.end_date.tz_localize(None)\n",
    "stock_data.head()"
   ]
  },
  {
   "cell_type": "markdown",
   "metadata": {},
   "source": [
    "To create a stock portfolio, use `Stock` as Stock(*name*, *percentage*), where *name* should match the name given in the `symbol` column and *percentage* is the percentage (from 0 to 1) allocated to that specific asset. Afterwards, store them in a list."
   ]
  },
  {
   "cell_type": "code",
   "execution_count": 9,
   "metadata": {
    "ExecuteTime": {
     "end_time": "2022-07-04T05:14:35.474794Z",
     "start_time": "2022-07-04T05:14:35.457851Z"
    }
   },
   "outputs": [],
   "source": [
    "MSFT = Stock('MSFT', 0.3)\n",
    "AAPL = Stock('AAPL', 0.3)\n",
    "XOM = Stock('XOM', 0.4)\n",
    "# EWY = Stock('EWY', 0.05)\n",
    "# EWS = Stock('EWS', 0.05)\n",
    "# VTIP = Stock('VTIP', 0.10)\n",
    "# TLT = Stock('TLT', 0.20)\n",
    "# BWX = Stock('BWX', 0.10)\n",
    "# PDBC = Stock('PDBC', 0.05)\n",
    "# IAU = Stock('IAU', 0.15)\n",
    "# VNQI = Stock('VNQI', 0.10)"
   ]
  },
  {
   "cell_type": "markdown",
   "metadata": {},
   "source": [
    "Make sure the sum of the percentages is 1."
   ]
  },
  {
   "cell_type": "code",
   "execution_count": 10,
   "metadata": {
    "ExecuteTime": {
     "end_time": "2022-07-04T05:14:35.498740Z",
     "start_time": "2022-07-04T05:14:35.476159Z"
    }
   },
   "outputs": [
    {
     "data": {
      "text/plain": [
       "1.0000000000000002"
      ]
     },
     "execution_count": 10,
     "metadata": {},
     "output_type": "execute_result"
    }
   ],
   "source": [
    "0.10 + 0.05 + 0.05 + 0.05 + 0.05 + 0.10 + 0.20 + 0.10 + 0.05 + 0.15 + 0.10"
   ]
  },
  {
   "cell_type": "code",
   "execution_count": 11,
   "metadata": {
    "ExecuteTime": {
     "end_time": "2022-07-04T05:14:35.514662Z",
     "start_time": "2022-07-04T05:14:35.500251Z"
    }
   },
   "outputs": [],
   "source": [
    "stocks = [\n",
    "    MSFT,\n",
    "    AAPL,\n",
    "    XOM,\n",
    "    # EWY,\n",
    "    # EWS,\n",
    "    # VTIP,\n",
    "    # TLT,\n",
    "    # BWX,\n",
    "    # PDBC,\n",
    "    # IAU,\n",
    "    # VNQI\n",
    "]"
   ]
  },
  {
   "cell_type": "markdown",
   "metadata": {},
   "source": [
    "## Options"
   ]
  },
  {
   "cell_type": "markdown",
   "metadata": {},
   "source": [
    "To load your options data, use `HistoricalOptionsData`. Both this and `Stock` make use of an underlying `schema` to map the expected column names to the ones in your data. *Schema.stocks()* and *Schema.options()* will return the default mappings (i.e, the ones that don't change anything). If you need to change some values in them use *update* like so:"
   ]
  },
  {
   "cell_type": "code",
   "execution_count": 12,
   "metadata": {
    "ExecuteTime": {
     "end_time": "2022-07-04T05:14:35.532640Z",
     "start_time": "2022-07-04T05:14:35.515795Z"
    }
   },
   "outputs": [
    {
     "data": {
      "text/plain": [
       "Schema([Field(name='underlying', mapping='stock'), Field(name='underlying_last', mapping='underlying_last'), Field(name='date', mapping='quotedate'), Field(name='contract', mapping='optionroot'), Field(name='type', mapping='type'), Field(name='expiration', mapping='expiration'), Field(name='strike', mapping='strike'), Field(name='bid', mapping='bid'), Field(name='ask', mapping='ask'), Field(name='volume', mapping='volume'), Field(name='open_interest', mapping='open_interest')])"
      ]
     },
     "execution_count": 12,
     "metadata": {},
     "output_type": "execute_result"
    }
   ],
   "source": [
    "options_schema = Schema.options()\n",
    "options_schema.update({\n",
    "    'underlying': 'stock',\n",
    "            'contract': 'optionroot',\n",
    "            'date': 'quotedate'})\n",
    "options_schema"
   ]
  },
  {
   "cell_type": "markdown",
   "metadata": {},
   "source": [
    "In the last cell we updated the schema so that the *contract* and *date* columns are mapped to *optionroot* and *quotedate*, as they are in our data. This isn't needed in our case, since the default schema used by the backtester already uses this mapping; in general though, to use a custom schema pass it to `Stock` or `HistoricalOptionsData` when loading the csv (*schema=None* uses the default schema)."
   ]
  },
  {
   "cell_type": "code",
   "execution_count": 13,
   "metadata": {
    "ExecuteTime": {
     "end_time": "2022-07-04T05:15:14.396502Z",
     "start_time": "2022-07-04T05:14:35.533916Z"
    }
   },
   "outputs": [
    {
     "data": {
      "text/html": [
       "<div>\n",
       "<style scoped>\n",
       "    .dataframe tbody tr th:only-of-type {\n",
       "        vertical-align: middle;\n",
       "    }\n",
       "\n",
       "    .dataframe tbody tr th {\n",
       "        vertical-align: top;\n",
       "    }\n",
       "\n",
       "    .dataframe thead th {\n",
       "        text-align: right;\n",
       "    }\n",
       "</style>\n",
       "<table border=\"1\" class=\"dataframe\">\n",
       "  <thead>\n",
       "    <tr style=\"text-align: right;\">\n",
       "      <th></th>\n",
       "      <th>date</th>\n",
       "      <th>symbol</th>\n",
       "      <th>symbol_flag</th>\n",
       "      <th>exdate</th>\n",
       "      <th>last_date</th>\n",
       "      <th>cp_flag</th>\n",
       "      <th>strike_price</th>\n",
       "      <th>best_bid</th>\n",
       "      <th>best_offer</th>\n",
       "      <th>volume</th>\n",
       "      <th>...</th>\n",
       "      <th>am_settlement</th>\n",
       "      <th>contract_size</th>\n",
       "      <th>ss_flag</th>\n",
       "      <th>forward_price</th>\n",
       "      <th>expiry_indicator</th>\n",
       "      <th>root</th>\n",
       "      <th>suffix</th>\n",
       "      <th>secid</th>\n",
       "      <th>ticker</th>\n",
       "      <th>dte</th>\n",
       "    </tr>\n",
       "  </thead>\n",
       "  <tbody>\n",
       "    <tr>\n",
       "      <th>0</th>\n",
       "      <td>1996-01-04</td>\n",
       "      <td>09D05.1F</td>\n",
       "      <td>0</td>\n",
       "      <td>1996-01-20</td>\n",
       "      <td>NaT</td>\n",
       "      <td>P</td>\n",
       "      <td>55000.0</td>\n",
       "      <td>0.000</td>\n",
       "      <td>0.0625</td>\n",
       "      <td>0.0</td>\n",
       "      <td>...</td>\n",
       "      <td>0.0</td>\n",
       "      <td>100.0</td>\n",
       "      <td>0</td>\n",
       "      <td>87.580727</td>\n",
       "      <td></td>\n",
       "      <td>09D05</td>\n",
       "      <td>1F</td>\n",
       "      <td>107525.0</td>\n",
       "      <td>MSFT</td>\n",
       "      <td>16</td>\n",
       "    </tr>\n",
       "    <tr>\n",
       "      <th>1</th>\n",
       "      <td>1996-01-04</td>\n",
       "      <td>09907.E9</td>\n",
       "      <td>0</td>\n",
       "      <td>1996-02-17</td>\n",
       "      <td>1996-01-04</td>\n",
       "      <td>C</td>\n",
       "      <td>80000.0</td>\n",
       "      <td>9.375</td>\n",
       "      <td>9.7500</td>\n",
       "      <td>2.0</td>\n",
       "      <td>...</td>\n",
       "      <td>0.0</td>\n",
       "      <td>100.0</td>\n",
       "      <td>0</td>\n",
       "      <td>87.960975</td>\n",
       "      <td></td>\n",
       "      <td>09907</td>\n",
       "      <td>E9</td>\n",
       "      <td>107525.0</td>\n",
       "      <td>MSFT</td>\n",
       "      <td>44</td>\n",
       "    </tr>\n",
       "    <tr>\n",
       "      <th>2</th>\n",
       "      <td>1996-01-04</td>\n",
       "      <td>09E5B.96</td>\n",
       "      <td>0</td>\n",
       "      <td>1996-07-20</td>\n",
       "      <td>1996-01-04</td>\n",
       "      <td>C</td>\n",
       "      <td>80000.0</td>\n",
       "      <td>14.250</td>\n",
       "      <td>14.7500</td>\n",
       "      <td>1.0</td>\n",
       "      <td>...</td>\n",
       "      <td>0.0</td>\n",
       "      <td>100.0</td>\n",
       "      <td>0</td>\n",
       "      <td>89.972692</td>\n",
       "      <td></td>\n",
       "      <td>09E5B</td>\n",
       "      <td>96</td>\n",
       "      <td>107525.0</td>\n",
       "      <td>MSFT</td>\n",
       "      <td>198</td>\n",
       "    </tr>\n",
       "    <tr>\n",
       "      <th>3</th>\n",
       "      <td>1996-01-04</td>\n",
       "      <td>09D7E.EF</td>\n",
       "      <td>0</td>\n",
       "      <td>1997-01-18</td>\n",
       "      <td>NaT</td>\n",
       "      <td>P</td>\n",
       "      <td>70000.0</td>\n",
       "      <td>3.125</td>\n",
       "      <td>3.5000</td>\n",
       "      <td>0.0</td>\n",
       "      <td>...</td>\n",
       "      <td>0.0</td>\n",
       "      <td>100.0</td>\n",
       "      <td>0</td>\n",
       "      <td>92.275048</td>\n",
       "      <td></td>\n",
       "      <td>09D7E</td>\n",
       "      <td>EF</td>\n",
       "      <td>107525.0</td>\n",
       "      <td>MSFT</td>\n",
       "      <td>380</td>\n",
       "    </tr>\n",
       "    <tr>\n",
       "      <th>4</th>\n",
       "      <td>1996-01-04</td>\n",
       "      <td>09EF9.89</td>\n",
       "      <td>0</td>\n",
       "      <td>1996-04-20</td>\n",
       "      <td>1996-01-04</td>\n",
       "      <td>C</td>\n",
       "      <td>90000.0</td>\n",
       "      <td>6.500</td>\n",
       "      <td>6.8750</td>\n",
       "      <td>135.0</td>\n",
       "      <td>...</td>\n",
       "      <td>0.0</td>\n",
       "      <td>100.0</td>\n",
       "      <td>0</td>\n",
       "      <td>88.796785</td>\n",
       "      <td></td>\n",
       "      <td>09EF9</td>\n",
       "      <td>89</td>\n",
       "      <td>107525.0</td>\n",
       "      <td>MSFT</td>\n",
       "      <td>107</td>\n",
       "    </tr>\n",
       "  </tbody>\n",
       "</table>\n",
       "<p>5 rows × 28 columns</p>\n",
       "</div>"
      ],
      "text/plain": [
       "        date    symbol symbol_flag     exdate  last_date cp_flag  \\\n",
       "0 1996-01-04  09D05.1F           0 1996-01-20        NaT       P   \n",
       "1 1996-01-04  09907.E9           0 1996-02-17 1996-01-04       C   \n",
       "2 1996-01-04  09E5B.96           0 1996-07-20 1996-01-04       C   \n",
       "3 1996-01-04  09D7E.EF           0 1997-01-18        NaT       P   \n",
       "4 1996-01-04  09EF9.89           0 1996-04-20 1996-01-04       C   \n",
       "\n",
       "   strike_price  best_bid  best_offer  volume  ...  am_settlement  \\\n",
       "0       55000.0     0.000      0.0625     0.0  ...            0.0   \n",
       "1       80000.0     9.375      9.7500     2.0  ...            0.0   \n",
       "2       80000.0    14.250     14.7500     1.0  ...            0.0   \n",
       "3       70000.0     3.125      3.5000     0.0  ...            0.0   \n",
       "4       90000.0     6.500      6.8750   135.0  ...            0.0   \n",
       "\n",
       "   contract_size  ss_flag  forward_price  expiry_indicator   root  suffix  \\\n",
       "0          100.0        0      87.580727                    09D05      1F   \n",
       "1          100.0        0      87.960975                    09907      E9   \n",
       "2          100.0        0      89.972692                    09E5B      96   \n",
       "3          100.0        0      92.275048                    09D7E      EF   \n",
       "4          100.0        0      88.796785                    09EF9      89   \n",
       "\n",
       "      secid  ticker  dte  \n",
       "0  107525.0    MSFT   16  \n",
       "1  107525.0    MSFT   44  \n",
       "2  107525.0    MSFT  198  \n",
       "3  107525.0    MSFT  380  \n",
       "4  107525.0    MSFT  107  \n",
       "\n",
       "[5 rows x 28 columns]"
      ]
     },
     "execution_count": 13,
     "metadata": {},
     "output_type": "execute_result"
    }
   ],
   "source": [
    "options_data = OptionMetricsData([\"MSFT\", \"AAPL\", \"XOM\"], schema=None)\n",
    "schema = options_data.schema\n",
    "options_data.head()"
   ]
  },
  {
   "cell_type": "code",
   "execution_count": 14,
   "metadata": {
    "ExecuteTime": {
     "end_time": "2022-07-04T05:15:14.658790Z",
     "start_time": "2022-07-04T05:15:14.397527Z"
    }
   },
   "outputs": [
    {
     "data": {
      "text/plain": [
       "array(['MSFT', 'AAPL', 'XOM'], dtype=object)"
      ]
     },
     "execution_count": 14,
     "metadata": {},
     "output_type": "execute_result"
    }
   ],
   "source": [
    "options_data.ticker.unique()"
   ]
  },
  {
   "cell_type": "code",
   "execution_count": 15,
   "metadata": {
    "ExecuteTime": {
     "end_time": "2022-07-04T05:15:14.674665Z",
     "start_time": "2022-07-04T05:15:14.659925Z"
    }
   },
   "outputs": [],
   "source": [
    "# d0 = max(options_data['date'].min(), stock_data['date'].min())\n",
    "# d1 = min(options_data['date'].max(), stock_data['date'].max())\n",
    "# print(\"restricting to\", d0, d1)\n",
    "# stock_data = stock_data[(stock_data.date <= d1) & (stock_data.date >= d0)]\n",
    "date_col = stock_data.schema['date']\n",
    "stock_data.start_date = stock_data._data[date_col].min()\n",
    "stock_data.end_date = stock_data._data[date_col].max()\n",
    "# # remove tz\n",
    "# stock_data['date']=stock_data.date.dt.tz_localize(None)\n",
    "# stock_data.head()\n",
    "# # options_data._data = options_data_data[(options_data.date <= d1) & (options_data.date >= d0)]"
   ]
  },
  {
   "cell_type": "markdown",
   "metadata": {},
   "source": [
    "# Strat"
   ]
  },
  {
   "cell_type": "markdown",
   "metadata": {},
   "source": [
    "For the options part of the backtest, we create a `Strategy` to determine when to enter on certain contracts. Remember to pass the options schema when creating it."
   ]
  },
  {
   "cell_type": "code",
   "execution_count": 16,
   "metadata": {
    "ExecuteTime": {
     "end_time": "2022-07-04T05:15:14.690535Z",
     "start_time": "2022-07-04T05:15:14.675626Z"
    }
   },
   "outputs": [],
   "source": [
    "long_straddle = Strategy(schema)"
   ]
  },
  {
   "cell_type": "markdown",
   "metadata": {},
   "source": [
    "Each strategy consists of one or more legs created with `StrategyLeg`. A leg consists of a type of contract (*put* or *call*) and a direction to enter (*buy* or *sell*). Our long straddle will have two legs, which will buy a call and a put respectively."
   ]
  },
  {
   "cell_type": "code",
   "execution_count": 17,
   "metadata": {
    "ExecuteTime": {
     "end_time": "2022-07-04T05:15:14.706476Z",
     "start_time": "2022-07-04T05:15:14.691543Z"
    }
   },
   "outputs": [],
   "source": [
    "leg1 = StrategyLeg(\"leg_1\", schema, option_type=Type.CALL, direction=Direction.BUY)\n",
    "\n",
    "leg2 = StrategyLeg(\"leg_2\", schema, option_type=Type.PUT, direction=Direction.BUY)"
   ]
  },
  {
   "cell_type": "markdown",
   "metadata": {},
   "source": [
    "Legs have entry and exit filters, to determine the conditions a contract from that leg has to satisfy to select it for entry/exit. Filters are created with the following syntax, using the options schema to refer to column names (such as `underlying`, `dte` or `strike`)."
   ]
  },
  {
   "cell_type": "code",
   "execution_count": 18,
   "metadata": {
    "ExecuteTime": {
     "end_time": "2022-07-04T05:15:14.722390Z",
     "start_time": "2022-07-04T05:15:14.707404Z"
    }
   },
   "outputs": [],
   "source": [
    "# options_data.head()"
   ]
  },
  {
   "cell_type": "code",
   "execution_count": 19,
   "metadata": {
    "ExecuteTime": {
     "end_time": "2022-07-04T05:15:14.739166Z",
     "start_time": "2022-07-04T05:15:14.723369Z"
    }
   },
   "outputs": [],
   "source": [
    "leg1.entry_filter = (schema.dte >= 31) & (schema.dte <= 60) & (schema.strike >= schema.underlying_last * 0.95) & (schema.strike <= schema.underlying_last * 1.05)\n",
    "leg2.entry_filter = (schema.dte >= 31) & (schema.dte <= 60) & (schema.strike >= schema.underlying_last * 0.95) & (schema.strike <= schema.underlying_last * 1.05)\n",
    "\n",
    "leg1.exit_filter = (schema.dte <= 60)\n",
    "leg2.exit_filter = (schema.dte <= 60)\n",
    "\n",
    "long_straddle.add_legs([leg1, leg2]);"
   ]
  },
  {
   "cell_type": "code",
   "execution_count": 20,
   "metadata": {
    "ExecuteTime": {
     "end_time": "2022-07-04T05:15:14.754983Z",
     "start_time": "2022-07-04T05:15:14.740098Z"
    }
   },
   "outputs": [],
   "source": [
    "# leg1.entry_filter = (schema.underlying == \"SPX\") & (schema.dte >= 31) & (schema.dte <= 60) & (schema.strike >= schema.underlying_last * 0.95) & (schema.strike <= schema.underlying_last * 1.05)\n",
    "# leg2.entry_filter = (schema.underlying == \"SPX\") & (schema.dte >= 31) & (schema.dte <= 60) & (schema.strike >= schema.underlying_last * 0.95) & (schema.strike <= schema.underlying_last * 1.05)\n",
    "\n",
    "# leg1.exit_filter = (schema.dte <= 60)\n",
    "# leg2.exit_filter = (schema.dte <= 60)\n",
    "\n",
    "# long_straddle.add_legs([leg1, leg2]);"
   ]
  },
  {
   "cell_type": "markdown",
   "metadata": {},
   "source": [
    "In this case, the first leg will look for contracts with *SPX* as the underlying which have between 31 and 60 days to expiration (*dte*) and are at the money (*ATM*), i.e, their strike price is close to their spot. After entering, the exit filter will exit contracts having 60 or less *dte*, which for this given strategy means we will always exit contracts. This effectively means we are buying ATM put and call contracts, keeping them for a month and then selling them."
   ]
  },
  {
   "cell_type": "code",
   "execution_count": 21,
   "metadata": {
    "ExecuteTime": {
     "end_time": "2022-07-04T05:15:14.777101Z",
     "start_time": "2022-07-04T05:15:14.755936Z"
    }
   },
   "outputs": [
    {
     "data": {
      "text/plain": [
       "[Stock(symbol='MSFT', percentage=0.3),\n",
       " Stock(symbol='AAPL', percentage=0.3),\n",
       " Stock(symbol='XOM', percentage=0.4)]"
      ]
     },
     "execution_count": 21,
     "metadata": {},
     "output_type": "execute_result"
    }
   ],
   "source": [
    "stocks"
   ]
  },
  {
   "cell_type": "markdown",
   "metadata": {},
   "source": [
    "# Run"
   ]
  },
  {
   "cell_type": "markdown",
   "metadata": {},
   "source": [
    "To put it all together, create a `Backtest` object and pass it a map specifying the percentage allocated to stocks, options and cash. Then set the stock portfolio, the options strategy and the data and run it."
   ]
  },
  {
   "cell_type": "code",
   "execution_count": 41,
   "metadata": {
    "ExecuteTime": {
     "end_time": "2022-07-04T05:17:12.542568Z",
     "start_time": "2022-07-04T05:17:12.528174Z"
    }
   },
   "outputs": [],
   "source": [
    "bt = Backtest({'stocks': 0.5, 'options': 0.5, 'cash': 0})\n",
    "bt.stocks = stocks\n",
    "bt.options_strategy = long_straddle\n",
    "bt.options_data = options_data\n",
    "bt.stocks_data = stock_data"
   ]
  },
  {
   "cell_type": "code",
   "execution_count": 42,
   "metadata": {
    "ExecuteTime": {
     "end_time": "2022-07-04T05:17:12.756559Z",
     "start_time": "2022-07-04T05:17:12.695626Z"
    }
   },
   "outputs": [
    {
     "data": {
      "text/plain": [
       "array(['1996-01-04T00:00:00.000000000', '1996-01-05T00:00:00.000000000',\n",
       "       '1996-01-08T00:00:00.000000000', ...,\n",
       "       '2019-06-26T00:00:00.000000000', '2019-06-27T00:00:00.000000000',\n",
       "       '2019-06-28T00:00:00.000000000'], dtype='datetime64[ns]')"
      ]
     },
     "execution_count": 42,
     "metadata": {},
     "output_type": "execute_result"
    }
   ],
   "source": [
    "options_data['date'].unique()"
   ]
  },
  {
   "cell_type": "code",
   "execution_count": 43,
   "metadata": {
    "ExecuteTime": {
     "end_time": "2022-07-04T05:17:12.843180Z",
     "start_time": "2022-07-04T05:17:12.828029Z"
    }
   },
   "outputs": [
    {
     "data": {
      "text/plain": [
       "Timestamp('1996-01-04 00:00:00')"
      ]
     },
     "execution_count": 43,
     "metadata": {},
     "output_type": "execute_result"
    }
   ],
   "source": [
    "stock_data['date'].unique()\n",
    "stock_data.start_date"
   ]
  },
  {
   "cell_type": "markdown",
   "metadata": {},
   "source": [
    "The *run* method takes the initial capital (default value *1.000.000*) and `rebalance_freq` as arguments. This last one defines how often, in months, a rebalancing of the portfolio is made, so that a value of 1 means a monthly rebalancing and 6 a bi-annual one. Its value defaults to 0, meaning no rebalancing done."
   ]
  },
  {
   "cell_type": "code",
   "execution_count": 44,
   "metadata": {
    "ExecuteTime": {
     "end_time": "2022-07-04T05:17:45.459030Z",
     "start_time": "2022-07-04T05:17:13.130619Z"
    }
   },
   "outputs": [
    {
     "name": "stderr",
     "output_type": "stream",
     "text": [
      "0% [██████████████████████████████] 100% | ETA: 00:00:00\n",
      "Total time elapsed: 00:00:31\n"
     ]
    },
    {
     "data": {
      "text/html": [
       "<div>\n",
       "<style scoped>\n",
       "    .dataframe tbody tr th:only-of-type {\n",
       "        vertical-align: middle;\n",
       "    }\n",
       "\n",
       "    .dataframe tbody tr th {\n",
       "        vertical-align: top;\n",
       "    }\n",
       "\n",
       "    .dataframe thead tr th {\n",
       "        text-align: left;\n",
       "    }\n",
       "</style>\n",
       "<table border=\"1\" class=\"dataframe\">\n",
       "  <thead>\n",
       "    <tr>\n",
       "      <th></th>\n",
       "      <th colspan=\"7\" halign=\"left\">leg_1</th>\n",
       "      <th colspan=\"7\" halign=\"left\">leg_2</th>\n",
       "      <th colspan=\"3\" halign=\"left\">totals</th>\n",
       "    </tr>\n",
       "    <tr>\n",
       "      <th></th>\n",
       "      <th>contract</th>\n",
       "      <th>underlying</th>\n",
       "      <th>expiration</th>\n",
       "      <th>type</th>\n",
       "      <th>strike</th>\n",
       "      <th>cost</th>\n",
       "      <th>order</th>\n",
       "      <th>contract</th>\n",
       "      <th>underlying</th>\n",
       "      <th>expiration</th>\n",
       "      <th>type</th>\n",
       "      <th>strike</th>\n",
       "      <th>cost</th>\n",
       "      <th>order</th>\n",
       "      <th>cost</th>\n",
       "      <th>qty</th>\n",
       "      <th>date</th>\n",
       "    </tr>\n",
       "  </thead>\n",
       "  <tbody>\n",
       "  </tbody>\n",
       "</table>\n",
       "</div>"
      ],
      "text/plain": [
       "Empty DataFrame\n",
       "Columns: [(leg_1, contract), (leg_1, underlying), (leg_1, expiration), (leg_1, type), (leg_1, strike), (leg_1, cost), (leg_1, order), (leg_2, contract), (leg_2, underlying), (leg_2, expiration), (leg_2, type), (leg_2, strike), (leg_2, cost), (leg_2, order), (totals, cost), (totals, qty), (totals, date)]\n",
       "Index: []"
      ]
     },
     "execution_count": 44,
     "metadata": {},
     "output_type": "execute_result"
    }
   ],
   "source": [
    "bt.run(rebalance_freq=1)"
   ]
  },
  {
   "cell_type": "code",
   "execution_count": null,
   "metadata": {
    "ExecuteTime": {
     "end_time": "2022-07-04T05:15:43.833604Z",
     "start_time": "2022-07-04T05:15:43.817268Z"
    }
   },
   "outputs": [],
   "source": []
  },
  {
   "cell_type": "markdown",
   "metadata": {},
   "source": [
    "When done, the backtester returns a trade log with all the option trades. There is also a balance sheet with daily returns, capital and other information for each stock symbol and options."
   ]
  },
  {
   "cell_type": "code",
   "execution_count": null,
   "metadata": {
    "ExecuteTime": {
     "end_time": "2022-07-04T05:15:43.859515Z",
     "start_time": "2022-07-04T05:15:43.834678Z"
    }
   },
   "outputs": [],
   "source": []
  },
  {
   "cell_type": "code",
   "execution_count": 45,
   "metadata": {
    "ExecuteTime": {
     "end_time": "2022-07-04T05:17:45.489105Z",
     "start_time": "2022-07-04T05:17:45.460476Z"
    }
   },
   "outputs": [
    {
     "data": {
      "text/html": [
       "<div>\n",
       "<style scoped>\n",
       "    .dataframe tbody tr th:only-of-type {\n",
       "        vertical-align: middle;\n",
       "    }\n",
       "\n",
       "    .dataframe tbody tr th {\n",
       "        vertical-align: top;\n",
       "    }\n",
       "\n",
       "    .dataframe thead th {\n",
       "        text-align: right;\n",
       "    }\n",
       "</style>\n",
       "<table border=\"1\" class=\"dataframe\">\n",
       "  <thead>\n",
       "    <tr style=\"text-align: right;\">\n",
       "      <th></th>\n",
       "      <th>total capital</th>\n",
       "      <th>cash</th>\n",
       "      <th>MSFT</th>\n",
       "      <th>AAPL</th>\n",
       "      <th>XOM</th>\n",
       "      <th>options qty</th>\n",
       "      <th>calls capital</th>\n",
       "      <th>puts capital</th>\n",
       "      <th>stocks qty</th>\n",
       "      <th>MSFT qty</th>\n",
       "      <th>AAPL qty</th>\n",
       "      <th>XOM qty</th>\n",
       "      <th>options capital</th>\n",
       "      <th>stocks capital</th>\n",
       "      <th>% change</th>\n",
       "      <th>accumulated return</th>\n",
       "    </tr>\n",
       "  </thead>\n",
       "  <tbody>\n",
       "    <tr>\n",
       "      <th>1996-01-03</th>\n",
       "      <td>1.000000e+06</td>\n",
       "      <td>1.000000e+06</td>\n",
       "      <td>NaN</td>\n",
       "      <td>NaN</td>\n",
       "      <td>NaN</td>\n",
       "      <td>NaN</td>\n",
       "      <td>NaN</td>\n",
       "      <td>NaN</td>\n",
       "      <td>NaN</td>\n",
       "      <td>NaN</td>\n",
       "      <td>NaN</td>\n",
       "      <td>NaN</td>\n",
       "      <td>0.0</td>\n",
       "      <td>0.000000e+00</td>\n",
       "      <td>NaN</td>\n",
       "      <td>NaN</td>\n",
       "    </tr>\n",
       "    <tr>\n",
       "      <th>1996-01-04</th>\n",
       "      <td>1.000000e+06</td>\n",
       "      <td>5.000041e+05</td>\n",
       "      <td>1.499985e+05</td>\n",
       "      <td>1.499999e+05</td>\n",
       "      <td>1.999975e+05</td>\n",
       "      <td>0.0</td>\n",
       "      <td>0.0</td>\n",
       "      <td>0.0</td>\n",
       "      <td>688386.0</td>\n",
       "      <td>43612.0</td>\n",
       "      <td>622655.0</td>\n",
       "      <td>22119.0</td>\n",
       "      <td>0.0</td>\n",
       "      <td>4.999959e+05</td>\n",
       "      <td>0.000000</td>\n",
       "      <td>1.000000</td>\n",
       "    </tr>\n",
       "    <tr>\n",
       "      <th>1996-01-05</th>\n",
       "      <td>1.015984e+06</td>\n",
       "      <td>5.000041e+05</td>\n",
       "      <td>1.482817e+05</td>\n",
       "      <td>1.627850e+05</td>\n",
       "      <td>2.049133e+05</td>\n",
       "      <td>0.0</td>\n",
       "      <td>0.0</td>\n",
       "      <td>0.0</td>\n",
       "      <td>688386.0</td>\n",
       "      <td>43612.0</td>\n",
       "      <td>622655.0</td>\n",
       "      <td>22119.0</td>\n",
       "      <td>0.0</td>\n",
       "      <td>5.159800e+05</td>\n",
       "      <td>0.015984</td>\n",
       "      <td>1.015984</td>\n",
       "    </tr>\n",
       "    <tr>\n",
       "      <th>1996-01-08</th>\n",
       "      <td>1.020042e+06</td>\n",
       "      <td>5.000041e+05</td>\n",
       "      <td>1.480757e+05</td>\n",
       "      <td>1.645911e+05</td>\n",
       "      <td>2.073712e+05</td>\n",
       "      <td>0.0</td>\n",
       "      <td>0.0</td>\n",
       "      <td>0.0</td>\n",
       "      <td>688386.0</td>\n",
       "      <td>43612.0</td>\n",
       "      <td>622655.0</td>\n",
       "      <td>22119.0</td>\n",
       "      <td>0.0</td>\n",
       "      <td>5.200379e+05</td>\n",
       "      <td>0.003994</td>\n",
       "      <td>1.020042</td>\n",
       "    </tr>\n",
       "    <tr>\n",
       "      <th>1996-01-09</th>\n",
       "      <td>9.967210e+05</td>\n",
       "      <td>5.000041e+05</td>\n",
       "      <td>1.376717e+05</td>\n",
       "      <td>1.556558e+05</td>\n",
       "      <td>2.033894e+05</td>\n",
       "      <td>0.0</td>\n",
       "      <td>0.0</td>\n",
       "      <td>0.0</td>\n",
       "      <td>688386.0</td>\n",
       "      <td>43612.0</td>\n",
       "      <td>622655.0</td>\n",
       "      <td>22119.0</td>\n",
       "      <td>0.0</td>\n",
       "      <td>4.967169e+05</td>\n",
       "      <td>-0.022863</td>\n",
       "      <td>0.996721</td>\n",
       "    </tr>\n",
       "    <tr>\n",
       "      <th>...</th>\n",
       "      <td>...</td>\n",
       "      <td>...</td>\n",
       "      <td>...</td>\n",
       "      <td>...</td>\n",
       "      <td>...</td>\n",
       "      <td>...</td>\n",
       "      <td>...</td>\n",
       "      <td>...</td>\n",
       "      <td>...</td>\n",
       "      <td>...</td>\n",
       "      <td>...</td>\n",
       "      <td>...</td>\n",
       "      <td>...</td>\n",
       "      <td>...</td>\n",
       "      <td>...</td>\n",
       "      <td>...</td>\n",
       "    </tr>\n",
       "    <tr>\n",
       "      <th>2019-06-21</th>\n",
       "      <td>8.976873e+06</td>\n",
       "      <td>4.235908e+06</td>\n",
       "      <td>1.452253e+06</td>\n",
       "      <td>1.457513e+06</td>\n",
       "      <td>1.831199e+06</td>\n",
       "      <td>0.0</td>\n",
       "      <td>0.0</td>\n",
       "      <td>0.0</td>\n",
       "      <td>69275.0</td>\n",
       "      <td>10928.0</td>\n",
       "      <td>30050.0</td>\n",
       "      <td>28297.0</td>\n",
       "      <td>0.0</td>\n",
       "      <td>4.740965e+06</td>\n",
       "      <td>0.002309</td>\n",
       "      <td>8.976873</td>\n",
       "    </tr>\n",
       "    <tr>\n",
       "      <th>2019-06-24</th>\n",
       "      <td>8.966552e+06</td>\n",
       "      <td>4.235908e+06</td>\n",
       "      <td>1.460841e+06</td>\n",
       "      <td>1.456047e+06</td>\n",
       "      <td>1.813757e+06</td>\n",
       "      <td>0.0</td>\n",
       "      <td>0.0</td>\n",
       "      <td>0.0</td>\n",
       "      <td>69275.0</td>\n",
       "      <td>10928.0</td>\n",
       "      <td>30050.0</td>\n",
       "      <td>28297.0</td>\n",
       "      <td>0.0</td>\n",
       "      <td>4.730644e+06</td>\n",
       "      <td>-0.001150</td>\n",
       "      <td>8.966552</td>\n",
       "    </tr>\n",
       "    <tr>\n",
       "      <th>2019-06-25</th>\n",
       "      <td>8.882332e+06</td>\n",
       "      <td>4.235908e+06</td>\n",
       "      <td>1.414719e+06</td>\n",
       "      <td>1.433976e+06</td>\n",
       "      <td>1.797729e+06</td>\n",
       "      <td>0.0</td>\n",
       "      <td>0.0</td>\n",
       "      <td>0.0</td>\n",
       "      <td>69275.0</td>\n",
       "      <td>10928.0</td>\n",
       "      <td>30050.0</td>\n",
       "      <td>28297.0</td>\n",
       "      <td>0.0</td>\n",
       "      <td>4.646424e+06</td>\n",
       "      <td>-0.009393</td>\n",
       "      <td>8.882332</td>\n",
       "    </tr>\n",
       "    <tr>\n",
       "      <th>2019-06-26</th>\n",
       "      <td>8.926428e+06</td>\n",
       "      <td>4.235908e+06</td>\n",
       "      <td>1.420020e+06</td>\n",
       "      <td>1.464992e+06</td>\n",
       "      <td>1.805507e+06</td>\n",
       "      <td>0.0</td>\n",
       "      <td>0.0</td>\n",
       "      <td>0.0</td>\n",
       "      <td>69275.0</td>\n",
       "      <td>10928.0</td>\n",
       "      <td>30050.0</td>\n",
       "      <td>28297.0</td>\n",
       "      <td>0.0</td>\n",
       "      <td>4.690520e+06</td>\n",
       "      <td>0.004964</td>\n",
       "      <td>8.926428</td>\n",
       "    </tr>\n",
       "    <tr>\n",
       "      <th>2019-06-27</th>\n",
       "      <td>8.909935e+06</td>\n",
       "      <td>4.235908e+06</td>\n",
       "      <td>1.422353e+06</td>\n",
       "      <td>1.464552e+06</td>\n",
       "      <td>1.787122e+06</td>\n",
       "      <td>0.0</td>\n",
       "      <td>0.0</td>\n",
       "      <td>0.0</td>\n",
       "      <td>69275.0</td>\n",
       "      <td>10928.0</td>\n",
       "      <td>30050.0</td>\n",
       "      <td>28297.0</td>\n",
       "      <td>0.0</td>\n",
       "      <td>4.674027e+06</td>\n",
       "      <td>-0.001848</td>\n",
       "      <td>8.909935</td>\n",
       "    </tr>\n",
       "  </tbody>\n",
       "</table>\n",
       "<p>5912 rows × 16 columns</p>\n",
       "</div>"
      ],
      "text/plain": [
       "            total capital          cash          MSFT          AAPL  \\\n",
       "1996-01-03   1.000000e+06  1.000000e+06           NaN           NaN   \n",
       "1996-01-04   1.000000e+06  5.000041e+05  1.499985e+05  1.499999e+05   \n",
       "1996-01-05   1.015984e+06  5.000041e+05  1.482817e+05  1.627850e+05   \n",
       "1996-01-08   1.020042e+06  5.000041e+05  1.480757e+05  1.645911e+05   \n",
       "1996-01-09   9.967210e+05  5.000041e+05  1.376717e+05  1.556558e+05   \n",
       "...                   ...           ...           ...           ...   \n",
       "2019-06-21   8.976873e+06  4.235908e+06  1.452253e+06  1.457513e+06   \n",
       "2019-06-24   8.966552e+06  4.235908e+06  1.460841e+06  1.456047e+06   \n",
       "2019-06-25   8.882332e+06  4.235908e+06  1.414719e+06  1.433976e+06   \n",
       "2019-06-26   8.926428e+06  4.235908e+06  1.420020e+06  1.464992e+06   \n",
       "2019-06-27   8.909935e+06  4.235908e+06  1.422353e+06  1.464552e+06   \n",
       "\n",
       "                     XOM  options qty  calls capital  puts capital  \\\n",
       "1996-01-03           NaN          NaN            NaN           NaN   \n",
       "1996-01-04  1.999975e+05          0.0            0.0           0.0   \n",
       "1996-01-05  2.049133e+05          0.0            0.0           0.0   \n",
       "1996-01-08  2.073712e+05          0.0            0.0           0.0   \n",
       "1996-01-09  2.033894e+05          0.0            0.0           0.0   \n",
       "...                  ...          ...            ...           ...   \n",
       "2019-06-21  1.831199e+06          0.0            0.0           0.0   \n",
       "2019-06-24  1.813757e+06          0.0            0.0           0.0   \n",
       "2019-06-25  1.797729e+06          0.0            0.0           0.0   \n",
       "2019-06-26  1.805507e+06          0.0            0.0           0.0   \n",
       "2019-06-27  1.787122e+06          0.0            0.0           0.0   \n",
       "\n",
       "            stocks qty  MSFT qty  AAPL qty  XOM qty  options capital  \\\n",
       "1996-01-03         NaN       NaN       NaN      NaN              0.0   \n",
       "1996-01-04    688386.0   43612.0  622655.0  22119.0              0.0   \n",
       "1996-01-05    688386.0   43612.0  622655.0  22119.0              0.0   \n",
       "1996-01-08    688386.0   43612.0  622655.0  22119.0              0.0   \n",
       "1996-01-09    688386.0   43612.0  622655.0  22119.0              0.0   \n",
       "...                ...       ...       ...      ...              ...   \n",
       "2019-06-21     69275.0   10928.0   30050.0  28297.0              0.0   \n",
       "2019-06-24     69275.0   10928.0   30050.0  28297.0              0.0   \n",
       "2019-06-25     69275.0   10928.0   30050.0  28297.0              0.0   \n",
       "2019-06-26     69275.0   10928.0   30050.0  28297.0              0.0   \n",
       "2019-06-27     69275.0   10928.0   30050.0  28297.0              0.0   \n",
       "\n",
       "            stocks capital  % change  accumulated return  \n",
       "1996-01-03    0.000000e+00       NaN                 NaN  \n",
       "1996-01-04    4.999959e+05  0.000000            1.000000  \n",
       "1996-01-05    5.159800e+05  0.015984            1.015984  \n",
       "1996-01-08    5.200379e+05  0.003994            1.020042  \n",
       "1996-01-09    4.967169e+05 -0.022863            0.996721  \n",
       "...                    ...       ...                 ...  \n",
       "2019-06-21    4.740965e+06  0.002309            8.976873  \n",
       "2019-06-24    4.730644e+06 -0.001150            8.966552  \n",
       "2019-06-25    4.646424e+06 -0.009393            8.882332  \n",
       "2019-06-26    4.690520e+06  0.004964            8.926428  \n",
       "2019-06-27    4.674027e+06 -0.001848            8.909935  \n",
       "\n",
       "[5912 rows x 16 columns]"
      ]
     },
     "execution_count": 45,
     "metadata": {},
     "output_type": "execute_result"
    }
   ],
   "source": [
    "bt.balance"
   ]
  },
  {
   "cell_type": "code",
   "execution_count": 46,
   "metadata": {
    "ExecuteTime": {
     "end_time": "2022-07-04T05:17:45.619110Z",
     "start_time": "2022-07-04T05:17:45.490251Z"
    }
   },
   "outputs": [
    {
     "data": {
      "image/png": "[encoded data removed]",
      "text/plain": [
       "<Figure size 1008x576 with 1 Axes>"
      ]
     },
     "metadata": {},
     "output_type": "display_data"
    }
   ],
   "source": [
    "bt.balance['total capital'].plot();"
   ]
  },
  {
   "cell_type": "code",
   "execution_count": 47,
   "metadata": {
    "ExecuteTime": {
     "end_time": "2022-07-04T05:17:45.761206Z",
     "start_time": "2022-07-04T05:17:45.620973Z"
    }
   },
   "outputs": [
    {
     "data": {
      "image/png": "[encoded data removed]",
      "text/plain": [
       "<Figure size 1008x576 with 1 Axes>"
      ]
     },
     "metadata": {},
     "output_type": "display_data"
    }
   ],
   "source": [
    "bt.balance[[stock.symbol for stock in stocks]].plot();"
   ]
  },
  {
   "cell_type": "markdown",
   "metadata": {},
   "source": [
    "Pass the balance dataframe to \n",
    "the functions `returns_chart`, `returns_histogram` and `monthly_returns_heatmap` for better visualization. "
   ]
  },
  {
   "cell_type": "code",
   "execution_count": 48,
   "metadata": {
    "ExecuteTime": {
     "end_time": "2022-07-04T05:17:45.839110Z",
     "start_time": "2022-07-04T05:17:45.762662Z"
    }
   },
   "outputs": [
    {
     "ename": "MaxRowsError",
     "evalue": "The number of rows in your dataset is greater than the maximum allowed (5000). For information on how to plot larger datasets in Altair, see the documentation",
     "output_type": "error",
     "traceback": [
      "\u001b[0;31m---------------------------------------------------------------------------\u001b[0m",
      "\u001b[0;31mMaxRowsError\u001b[0m                              Traceback (most recent call last)",
      "\u001b[0;32m~/miniforge3/envs/mori_opt_earnings/lib/python3.7/site-packages/altair/vegalite/v4/api.py\u001b[0m in \u001b[0;36mto_dict\u001b[0;34m(self, *args, **kwargs)\u001b[0m\n\u001b[1;32m    372\u001b[0m         \u001b[0mcopy\u001b[0m \u001b[0;34m=\u001b[0m \u001b[0mself\u001b[0m\u001b[0;34m.\u001b[0m\u001b[0mcopy\u001b[0m\u001b[0;34m(\u001b[0m\u001b[0mdeep\u001b[0m\u001b[0;34m=\u001b[0m\u001b[0;32mFalse\u001b[0m\u001b[0;34m)\u001b[0m\u001b[0;34m\u001b[0m\u001b[0;34m\u001b[0m\u001b[0m\n\u001b[1;32m    373\u001b[0m         \u001b[0moriginal_data\u001b[0m \u001b[0;34m=\u001b[0m \u001b[0mgetattr\u001b[0m\u001b[0;34m(\u001b[0m\u001b[0mcopy\u001b[0m\u001b[0;34m,\u001b[0m \u001b[0;34m\"data\"\u001b[0m\u001b[0;34m,\u001b[0m \u001b[0mUndefined\u001b[0m\u001b[0;34m)\u001b[0m\u001b[0;34m\u001b[0m\u001b[0;34m\u001b[0m\u001b[0m\n\u001b[0;32m--> 374\u001b[0;31m         \u001b[0mcopy\u001b[0m\u001b[0;34m.\u001b[0m\u001b[0mdata\u001b[0m \u001b[0;34m=\u001b[0m \u001b[0m_prepare_data\u001b[0m\u001b[0;34m(\u001b[0m\u001b[0moriginal_data\u001b[0m\u001b[0;34m,\u001b[0m \u001b[0mcontext\u001b[0m\u001b[0;34m)\u001b[0m\u001b[0;34m\u001b[0m\u001b[0;34m\u001b[0m\u001b[0m\n\u001b[0m\u001b[1;32m    375\u001b[0m \u001b[0;34m\u001b[0m\u001b[0m\n\u001b[1;32m    376\u001b[0m         \u001b[0;32mif\u001b[0m \u001b[0moriginal_data\u001b[0m \u001b[0;32mis\u001b[0m \u001b[0;32mnot\u001b[0m \u001b[0mUndefined\u001b[0m\u001b[0;34m:\u001b[0m\u001b[0;34m\u001b[0m\u001b[0;34m\u001b[0m\u001b[0m\n",
      "\u001b[0;32m~/miniforge3/envs/mori_opt_earnings/lib/python3.7/site-packages/altair/vegalite/v4/api.py\u001b[0m in \u001b[0;36m_prepare_data\u001b[0;34m(data, context)\u001b[0m\n\u001b[1;32m     87\u001b[0m     \u001b[0;31m# convert dataframes  or objects with __geo_interface__ to dict\u001b[0m\u001b[0;34m\u001b[0m\u001b[0;34m\u001b[0m\u001b[0;34m\u001b[0m\u001b[0m\n\u001b[1;32m     88\u001b[0m     \u001b[0;32mif\u001b[0m \u001b[0misinstance\u001b[0m\u001b[0;34m(\u001b[0m\u001b[0mdata\u001b[0m\u001b[0;34m,\u001b[0m \u001b[0mpd\u001b[0m\u001b[0;34m.\u001b[0m\u001b[0mDataFrame\u001b[0m\u001b[0;34m)\u001b[0m \u001b[0;32mor\u001b[0m \u001b[0mhasattr\u001b[0m\u001b[0;34m(\u001b[0m\u001b[0mdata\u001b[0m\u001b[0;34m,\u001b[0m \u001b[0;34m\"__geo_interface__\"\u001b[0m\u001b[0;34m)\u001b[0m\u001b[0;34m:\u001b[0m\u001b[0;34m\u001b[0m\u001b[0;34m\u001b[0m\u001b[0m\n\u001b[0;32m---> 89\u001b[0;31m         \u001b[0mdata\u001b[0m \u001b[0;34m=\u001b[0m \u001b[0m_pipe\u001b[0m\u001b[0;34m(\u001b[0m\u001b[0mdata\u001b[0m\u001b[0;34m,\u001b[0m \u001b[0mdata_transformers\u001b[0m\u001b[0;34m.\u001b[0m\u001b[0mget\u001b[0m\u001b[0;34m(\u001b[0m\u001b[0;34m)\u001b[0m\u001b[0;34m)\u001b[0m\u001b[0;34m\u001b[0m\u001b[0;34m\u001b[0m\u001b[0m\n\u001b[0m\u001b[1;32m     90\u001b[0m \u001b[0;34m\u001b[0m\u001b[0m\n\u001b[1;32m     91\u001b[0m     \u001b[0;31m# convert string input to a URLData\u001b[0m\u001b[0;34m\u001b[0m\u001b[0;34m\u001b[0m\u001b[0;34m\u001b[0m\u001b[0m\n",
      "\u001b[0;32m~/miniforge3/envs/mori_opt_earnings/lib/python3.7/site-packages/toolz/functoolz.py\u001b[0m in \u001b[0;36mpipe\u001b[0;34m(data, *funcs)\u001b[0m\n\u001b[1;32m    628\u001b[0m     \"\"\"\n\u001b[1;32m    629\u001b[0m     \u001b[0;32mfor\u001b[0m \u001b[0mfunc\u001b[0m \u001b[0;32min\u001b[0m \u001b[0mfuncs\u001b[0m\u001b[0;34m:\u001b[0m\u001b[0;34m\u001b[0m\u001b[0;34m\u001b[0m\u001b[0m\n\u001b[0;32m--> 630\u001b[0;31m         \u001b[0mdata\u001b[0m \u001b[0;34m=\u001b[0m \u001b[0mfunc\u001b[0m\u001b[0;34m(\u001b[0m\u001b[0mdata\u001b[0m\u001b[0;34m)\u001b[0m\u001b[0;34m\u001b[0m\u001b[0;34m\u001b[0m\u001b[0m\n\u001b[0m\u001b[1;32m    631\u001b[0m     \u001b[0;32mreturn\u001b[0m \u001b[0mdata\u001b[0m\u001b[0;34m\u001b[0m\u001b[0;34m\u001b[0m\u001b[0m\n\u001b[1;32m    632\u001b[0m \u001b[0;34m\u001b[0m\u001b[0m\n",
      "\u001b[0;32m~/miniforge3/envs/mori_opt_earnings/lib/python3.7/site-packages/toolz/functoolz.py\u001b[0m in \u001b[0;36m__call__\u001b[0;34m(self, *args, **kwargs)\u001b[0m\n\u001b[1;32m    304\u001b[0m     \u001b[0;32mdef\u001b[0m \u001b[0m__call__\u001b[0m\u001b[0;34m(\u001b[0m\u001b[0mself\u001b[0m\u001b[0;34m,\u001b[0m \u001b[0;34m*\u001b[0m\u001b[0margs\u001b[0m\u001b[0;34m,\u001b[0m \u001b[0;34m**\u001b[0m\u001b[0mkwargs\u001b[0m\u001b[0;34m)\u001b[0m\u001b[0;34m:\u001b[0m\u001b[0;34m\u001b[0m\u001b[0;34m\u001b[0m\u001b[0m\n\u001b[1;32m    305\u001b[0m         \u001b[0;32mtry\u001b[0m\u001b[0;34m:\u001b[0m\u001b[0;34m\u001b[0m\u001b[0;34m\u001b[0m\u001b[0m\n\u001b[0;32m--> 306\u001b[0;31m             \u001b[0;32mreturn\u001b[0m \u001b[0mself\u001b[0m\u001b[0;34m.\u001b[0m\u001b[0m_partial\u001b[0m\u001b[0;34m(\u001b[0m\u001b[0;34m*\u001b[0m\u001b[0margs\u001b[0m\u001b[0;34m,\u001b[0m \u001b[0;34m**\u001b[0m\u001b[0mkwargs\u001b[0m\u001b[0;34m)\u001b[0m\u001b[0;34m\u001b[0m\u001b[0;34m\u001b[0m\u001b[0m\n\u001b[0m\u001b[1;32m    307\u001b[0m         \u001b[0;32mexcept\u001b[0m \u001b[0mTypeError\u001b[0m \u001b[0;32mas\u001b[0m \u001b[0mexc\u001b[0m\u001b[0;34m:\u001b[0m\u001b[0;34m\u001b[0m\u001b[0;34m\u001b[0m\u001b[0m\n\u001b[1;32m    308\u001b[0m             \u001b[0;32mif\u001b[0m \u001b[0mself\u001b[0m\u001b[0;34m.\u001b[0m\u001b[0m_should_curry\u001b[0m\u001b[0;34m(\u001b[0m\u001b[0margs\u001b[0m\u001b[0;34m,\u001b[0m \u001b[0mkwargs\u001b[0m\u001b[0;34m,\u001b[0m \u001b[0mexc\u001b[0m\u001b[0;34m)\u001b[0m\u001b[0;34m:\u001b[0m\u001b[0;34m\u001b[0m\u001b[0;34m\u001b[0m\u001b[0m\n",
      "\u001b[0;32m~/miniforge3/envs/mori_opt_earnings/lib/python3.7/site-packages/altair/vegalite/data.py\u001b[0m in \u001b[0;36mdefault_data_transformer\u001b[0;34m(data, max_rows)\u001b[0m\n\u001b[1;32m     17\u001b[0m \u001b[0;34m@\u001b[0m\u001b[0mcurried\u001b[0m\u001b[0;34m.\u001b[0m\u001b[0mcurry\u001b[0m\u001b[0;34m\u001b[0m\u001b[0;34m\u001b[0m\u001b[0m\n\u001b[1;32m     18\u001b[0m \u001b[0;32mdef\u001b[0m \u001b[0mdefault_data_transformer\u001b[0m\u001b[0;34m(\u001b[0m\u001b[0mdata\u001b[0m\u001b[0;34m,\u001b[0m \u001b[0mmax_rows\u001b[0m\u001b[0;34m=\u001b[0m\u001b[0;36m5000\u001b[0m\u001b[0;34m)\u001b[0m\u001b[0;34m:\u001b[0m\u001b[0;34m\u001b[0m\u001b[0;34m\u001b[0m\u001b[0m\n\u001b[0;32m---> 19\u001b[0;31m     \u001b[0;32mreturn\u001b[0m \u001b[0mcurried\u001b[0m\u001b[0;34m.\u001b[0m\u001b[0mpipe\u001b[0m\u001b[0;34m(\u001b[0m\u001b[0mdata\u001b[0m\u001b[0;34m,\u001b[0m \u001b[0mlimit_rows\u001b[0m\u001b[0;34m(\u001b[0m\u001b[0mmax_rows\u001b[0m\u001b[0;34m=\u001b[0m\u001b[0mmax_rows\u001b[0m\u001b[0;34m)\u001b[0m\u001b[0;34m,\u001b[0m \u001b[0mto_values\u001b[0m\u001b[0;34m)\u001b[0m\u001b[0;34m\u001b[0m\u001b[0;34m\u001b[0m\u001b[0m\n\u001b[0m\u001b[1;32m     20\u001b[0m \u001b[0;34m\u001b[0m\u001b[0m\n\u001b[1;32m     21\u001b[0m \u001b[0;34m\u001b[0m\u001b[0m\n",
      "\u001b[0;32m~/miniforge3/envs/mori_opt_earnings/lib/python3.7/site-packages/toolz/functoolz.py\u001b[0m in \u001b[0;36mpipe\u001b[0;34m(data, *funcs)\u001b[0m\n\u001b[1;32m    628\u001b[0m     \"\"\"\n\u001b[1;32m    629\u001b[0m     \u001b[0;32mfor\u001b[0m \u001b[0mfunc\u001b[0m \u001b[0;32min\u001b[0m \u001b[0mfuncs\u001b[0m\u001b[0;34m:\u001b[0m\u001b[0;34m\u001b[0m\u001b[0;34m\u001b[0m\u001b[0m\n\u001b[0;32m--> 630\u001b[0;31m         \u001b[0mdata\u001b[0m \u001b[0;34m=\u001b[0m \u001b[0mfunc\u001b[0m\u001b[0;34m(\u001b[0m\u001b[0mdata\u001b[0m\u001b[0;34m)\u001b[0m\u001b[0;34m\u001b[0m\u001b[0;34m\u001b[0m\u001b[0m\n\u001b[0m\u001b[1;32m    631\u001b[0m     \u001b[0;32mreturn\u001b[0m \u001b[0mdata\u001b[0m\u001b[0;34m\u001b[0m\u001b[0;34m\u001b[0m\u001b[0m\n\u001b[1;32m    632\u001b[0m \u001b[0;34m\u001b[0m\u001b[0m\n",
      "\u001b[0;32m~/miniforge3/envs/mori_opt_earnings/lib/python3.7/site-packages/toolz/functoolz.py\u001b[0m in \u001b[0;36m__call__\u001b[0;34m(self, *args, **kwargs)\u001b[0m\n\u001b[1;32m    304\u001b[0m     \u001b[0;32mdef\u001b[0m \u001b[0m__call__\u001b[0m\u001b[0;34m(\u001b[0m\u001b[0mself\u001b[0m\u001b[0;34m,\u001b[0m \u001b[0;34m*\u001b[0m\u001b[0margs\u001b[0m\u001b[0;34m,\u001b[0m \u001b[0;34m**\u001b[0m\u001b[0mkwargs\u001b[0m\u001b[0;34m)\u001b[0m\u001b[0;34m:\u001b[0m\u001b[0;34m\u001b[0m\u001b[0;34m\u001b[0m\u001b[0m\n\u001b[1;32m    305\u001b[0m         \u001b[0;32mtry\u001b[0m\u001b[0;34m:\u001b[0m\u001b[0;34m\u001b[0m\u001b[0;34m\u001b[0m\u001b[0m\n\u001b[0;32m--> 306\u001b[0;31m             \u001b[0;32mreturn\u001b[0m \u001b[0mself\u001b[0m\u001b[0;34m.\u001b[0m\u001b[0m_partial\u001b[0m\u001b[0;34m(\u001b[0m\u001b[0;34m*\u001b[0m\u001b[0margs\u001b[0m\u001b[0;34m,\u001b[0m \u001b[0;34m**\u001b[0m\u001b[0mkwargs\u001b[0m\u001b[0;34m)\u001b[0m\u001b[0;34m\u001b[0m\u001b[0;34m\u001b[0m\u001b[0m\n\u001b[0m\u001b[1;32m    307\u001b[0m         \u001b[0;32mexcept\u001b[0m \u001b[0mTypeError\u001b[0m \u001b[0;32mas\u001b[0m \u001b[0mexc\u001b[0m\u001b[0;34m:\u001b[0m\u001b[0;34m\u001b[0m\u001b[0;34m\u001b[0m\u001b[0m\n\u001b[1;32m    308\u001b[0m             \u001b[0;32mif\u001b[0m \u001b[0mself\u001b[0m\u001b[0;34m.\u001b[0m\u001b[0m_should_curry\u001b[0m\u001b[0;34m(\u001b[0m\u001b[0margs\u001b[0m\u001b[0;34m,\u001b[0m \u001b[0mkwargs\u001b[0m\u001b[0;34m,\u001b[0m \u001b[0mexc\u001b[0m\u001b[0;34m)\u001b[0m\u001b[0;34m:\u001b[0m\u001b[0;34m\u001b[0m\u001b[0;34m\u001b[0m\u001b[0m\n",
      "\u001b[0;32m~/miniforge3/envs/mori_opt_earnings/lib/python3.7/site-packages/altair/utils/data.py\u001b[0m in \u001b[0;36mlimit_rows\u001b[0;34m(data, max_rows)\u001b[0m\n\u001b[1;32m     82\u001b[0m             \u001b[0;34m\"than the maximum allowed ({}). \"\u001b[0m\u001b[0;34m\u001b[0m\u001b[0;34m\u001b[0m\u001b[0m\n\u001b[1;32m     83\u001b[0m             \u001b[0;34m\"For information on how to plot larger datasets \"\u001b[0m\u001b[0;34m\u001b[0m\u001b[0;34m\u001b[0m\u001b[0m\n\u001b[0;32m---> 84\u001b[0;31m             \u001b[0;34m\"in Altair, see the documentation\"\u001b[0m\u001b[0;34m.\u001b[0m\u001b[0mformat\u001b[0m\u001b[0;34m(\u001b[0m\u001b[0mmax_rows\u001b[0m\u001b[0;34m)\u001b[0m\u001b[0;34m\u001b[0m\u001b[0;34m\u001b[0m\u001b[0m\n\u001b[0m\u001b[1;32m     85\u001b[0m         )\n\u001b[1;32m     86\u001b[0m     \u001b[0;32mreturn\u001b[0m \u001b[0mdata\u001b[0m\u001b[0;34m\u001b[0m\u001b[0;34m\u001b[0m\u001b[0m\n",
      "\u001b[0;31mMaxRowsError\u001b[0m: The number of rows in your dataset is greater than the maximum allowed (5000). For information on how to plot larger datasets in Altair, see the documentation"
     ]
    },
    {
     "data": {
      "text/plain": [
       "alt.VConcatChart(...)"
      ]
     },
     "execution_count": 48,
     "metadata": {},
     "output_type": "execute_result"
    }
   ],
   "source": [
    "returns_chart(bt.balance)"
   ]
  },
  {
   "cell_type": "code",
   "execution_count": 49,
   "metadata": {
    "ExecuteTime": {
     "end_time": "2022-07-04T05:17:45.874199Z",
     "start_time": "2022-07-04T05:17:45.840196Z"
    }
   },
   "outputs": [
    {
     "data": {
      "text/html": [
       "\n",
       "<div id=\"altair-viz-fcc590ba0b49448ea3535f9feeaf224e\"></div>\n",
       "<script type=\"text/javascript\">\n",
       "  var VEGA_DEBUG = (typeof VEGA_DEBUG == \"undefined\") ? {} : VEGA_DEBUG;\n",
       "  (function(spec, embedOpt){\n",
       "    let outputDiv = document.currentScript.previousElementSibling;\n",
       "    if (outputDiv.id !== \"altair-viz-fcc590ba0b49448ea3535f9feeaf224e\") {\n",
       "      outputDiv = document.getElementById(\"altair-viz-fcc590ba0b49448ea3535f9feeaf224e\");\n",
       "    }\n",
       "    const paths = {\n",
       "      \"vega\": \"https://cdn.jsdelivr.net/npm//vega@5?noext\",\n",
       "      \"vega-lib\": \"https://cdn.jsdelivr.net/npm//vega-lib?noext\",\n",
       "      \"vega-lite\": \"https://cdn.jsdelivr.net/npm//vega-lite@4.17.0?noext\",\n",
       "      \"vega-embed\": \"https://cdn.jsdelivr.net/npm//vega-embed@6?noext\",\n",
       "    };\n",
       "\n",
       "    function maybeLoadScript(lib, version) {\n",
       "      var key = `${lib.replace(\"-\", \"\")}_version`;\n",
       "      return (VEGA_DEBUG[key] == version) ?\n",
       "        Promise.resolve(paths[lib]) :\n",
       "        new Promise(function(resolve, reject) {\n",
       "          var s = document.createElement('script');\n",
       "          document.getElementsByTagName(\"head\")[0].appendChild(s);\n",
       "          s.async = true;\n",
       "          s.onload = () => {\n",
       "            VEGA_DEBUG[key] = version;\n",
       "            return resolve(paths[lib]);\n",
       "          };\n",
       "          s.onerror = () => reject(`Error loading script: ${paths[lib]}`);\n",
       "          s.src = paths[lib];\n",
       "        });\n",
       "    }\n",
       "\n",
       "    function showError(err) {\n",
       "      outputDiv.innerHTML = `<div class=\"error\" style=\"color:red;\">${err}</div>`;\n",
       "      throw err;\n",
       "    }\n",
       "\n",
       "    function displayChart(vegaEmbed) {\n",
       "      vegaEmbed(outputDiv, spec, embedOpt)\n",
       "        .catch(err => showError(`Javascript Error: ${err.message}<br>This usually means there's a typo in your chart specification. See the javascript console for the full traceback.`));\n",
       "    }\n",
       "\n",
       "    if(typeof define === \"function\" && define.amd) {\n",
       "      requirejs.config({paths});\n",
       "      require([\"vega-embed\"], displayChart, err => showError(`Error loading script: ${err.message}`));\n",
       "    } else {\n",
       "      maybeLoadScript(\"vega\", \"5\")\n",
       "        .then(() => maybeLoadScript(\"vega-lite\", \"4.17.0\"))\n",
       "        .then(() => maybeLoadScript(\"vega-embed\", \"6\"))\n",
       "        .catch(showError)\n",
       "        .then(() => displayChart(vegaEmbed));\n",
       "    }\n",
       "  })({\"config\": {\"view\": {\"continuousWidth\": 400, \"continuousHeight\": 300}}, \"data\": {\"name\": \"data-d77aab98f34e94773a3f2380ca9e1d84\"}, \"mark\": \"rect\", \"encoding\": {\"color\": {\"aggregate\": \"mean\", \"field\": \"total capital\", \"scale\": {\"scheme\": \"redyellowgreen\"}, \"title\": \"Return\", \"type\": \"quantitative\"}, \"tooltip\": {\"aggregate\": \"mean\", \"field\": \"total capital\", \"format\": \".2f\", \"type\": \"quantitative\"}, \"x\": {\"field\": \"date\", \"timeUnit\": \"year\", \"title\": \"Year\", \"type\": \"ordinal\"}, \"y\": {\"field\": \"date\", \"timeUnit\": \"month\", \"title\": \"Month\", \"type\": \"ordinal\"}}, \"title\": \"Monthly Returns\", \"$schema\": \"https://vega.github.io/schema/vega-lite/v4.17.0.json\", \"datasets\": {\"data-d77aab98f34e94773a3f2380ca9e1d84\": [{\"date\": \"1996-01-31T00:00:00\", \"total capital\": -0.012671758862230043}, {\"date\": \"1996-02-29T00:00:00\", \"total capital\": 0.009065706079007585}, {\"date\": \"1996-03-31T00:00:00\", \"total capital\": -0.004354697423288423}, {\"date\": \"1996-04-30T00:00:00\", \"total capital\": 0.022012636189947088}, {\"date\": \"1996-05-31T00:00:00\", \"total capital\": 0.019533872278503228}, {\"date\": \"1996-06-30T00:00:00\", \"total capital\": -0.02405896806597918}, {\"date\": \"1996-07-31T00:00:00\", \"total capital\": -0.00670561322554819}, {\"date\": \"1996-08-31T00:00:00\", \"total capital\": 0.021675988429755044}, {\"date\": \"1996-09-30T00:00:00\", \"total capital\": 0.0026340069172607894}, {\"date\": \"1996-10-31T00:00:00\", \"total capital\": 0.02417571491884174}, {\"date\": \"1996-11-30T00:00:00\", \"total capital\": 0.04338374165842418}, {\"date\": \"1996-12-31T00:00:00\", \"total capital\": -0.0037618687949810825}, {\"date\": \"1997-01-31T00:00:00\", \"total capital\": 0.01648643652102555}, {\"date\": \"1997-02-28T00:00:00\", \"total capital\": -0.014283989910079398}, {\"date\": \"1997-03-31T00:00:00\", \"total capital\": 0.02492922298768252}, {\"date\": \"1997-04-30T00:00:00\", \"total capital\": 0.046538631033863576}, {\"date\": \"1997-05-31T00:00:00\", \"total capital\": 0.010455329221358722}, {\"date\": \"1997-06-30T00:00:00\", \"total capital\": -0.011439254353936112}, {\"date\": \"1997-07-31T00:00:00\", \"total capital\": 0.0670660618823733}, {\"date\": \"1997-08-31T00:00:00\", \"total capital\": 0.01992384855598206}, {\"date\": \"1997-09-30T00:00:00\", \"total capital\": 0.009090061976893438}, {\"date\": \"1997-10-31T00:00:00\", \"total capital\": -0.043173743226204375}, {\"date\": \"1997-11-30T00:00:00\", \"total capital\": 0.01888098565395313}, {\"date\": \"1997-12-31T00:00:00\", \"total capital\": -0.05131569917134782}, {\"date\": \"1998-01-31T00:00:00\", \"total capital\": 0.06474456579930932}, {\"date\": \"1998-02-28T00:00:00\", \"total capital\": 0.08141357876371558}, {\"date\": \"1998-03-31T00:00:00\", \"total capital\": 0.04465736695692901}, {\"date\": \"1998-04-30T00:00:00\", \"total capital\": 0.016310012633504067}, {\"date\": \"1998-05-31T00:00:00\", \"total capital\": -0.018287627763127423}, {\"date\": \"1998-06-30T00:00:00\", \"total capital\": 0.05641290911402619}, {\"date\": \"1998-07-31T00:00:00\", \"total capital\": 0.029737106294277726}, {\"date\": \"1998-08-31T00:00:00\", \"total capital\": -0.04599434838103933}, {\"date\": \"1998-09-30T00:00:00\", \"total capital\": 0.06808261535802118}, {\"date\": \"1998-10-31T00:00:00\", \"total capital\": -0.007524554277497986}, {\"date\": \"1998-11-30T00:00:00\", \"total capital\": 0.012869762910838967}, {\"date\": \"1998-12-31T00:00:00\", \"total capital\": 0.055036273272315084}, {\"date\": \"1999-01-31T00:00:00\", \"total capital\": 0.03202742452720986}, {\"date\": \"1999-02-28T00:00:00\", \"total capital\": -0.05441701950275868}, {\"date\": \"1999-03-31T00:00:00\", \"total capital\": 0.04624230623664305}, {\"date\": \"1999-04-30T00:00:00\", \"total capital\": 0.06512293449220041}, {\"date\": \"1999-05-31T00:00:00\", \"total capital\": -0.009287673449582479}, {\"date\": \"1999-06-30T00:00:00\", \"total capital\": 0.018520997164553687}, {\"date\": \"1999-07-31T00:00:00\", \"total capital\": 0.029809474995518004}, {\"date\": \"1999-08-31T00:00:00\", \"total capital\": 0.037501740261994376}, {\"date\": \"1999-09-30T00:00:00\", \"total capital\": -0.013602476397776675}, {\"date\": \"1999-10-31T00:00:00\", \"total capital\": 0.039024930016057}, {\"date\": \"1999-11-30T00:00:00\", \"total capital\": 0.045873646507678556}, {\"date\": \"1999-12-31T00:00:00\", \"total capital\": 0.054575224188129656}, {\"date\": \"2000-01-31T00:00:00\", \"total capital\": -0.016234560008913435}, {\"date\": \"2000-02-29T00:00:00\", \"total capital\": -0.013525408116271675}, {\"date\": \"2000-03-31T00:00:00\", \"total capital\": 0.06580159600341395}, {\"date\": \"2000-04-30T00:00:00\", \"total capital\": -0.07209062066153338}, {\"date\": \"2000-05-31T00:00:00\", \"total capital\": -0.049000785995506946}, {\"date\": \"2000-06-30T00:00:00\", \"total capital\": 0.061861010540619876}, {\"date\": \"2000-07-31T00:00:00\", \"total capital\": -0.019278151568762336}, {\"date\": \"2000-08-31T00:00:00\", \"total capital\": 0.03576341438050101}, {\"date\": \"2000-09-30T00:00:00\", \"total capital\": -0.08500357955632598}, {\"date\": \"2000-10-31T00:00:00\", \"total capital\": -0.009683576782789305}, {\"date\": \"2000-11-30T00:00:00\", \"total capital\": -0.05029629919209633}, {\"date\": \"2000-12-31T00:00:00\", \"total capital\": -0.054200597088044256}, {\"date\": \"2001-01-31T00:00:00\", \"total capital\": 0.12375658864895378}, {\"date\": \"2001-02-28T00:00:00\", \"total capital\": -0.035035427009468045}, {\"date\": \"2001-03-31T00:00:00\", \"total capital\": 0.019292963963641885}, {\"date\": \"2001-04-30T00:00:00\", \"total capital\": 0.07705132786253399}, {\"date\": \"2001-05-31T00:00:00\", \"total capital\": -0.02685430056093996}, {\"date\": \"2001-06-30T00:00:00\", \"total capital\": 0.0279117643526392}, {\"date\": \"2001-07-31T00:00:00\", \"total capital\": -0.05065941146175812}, {\"date\": \"2001-08-31T00:00:00\", \"total capital\": -0.029564826641585662}, {\"date\": \"2001-09-30T00:00:00\", \"total capital\": -0.043912711871301635}, {\"date\": \"2001-10-31T00:00:00\", \"total capital\": 0.0401757920903163}, {\"date\": \"2001-11-30T00:00:00\", \"total capital\": 0.038732931106846946}, {\"date\": \"2001-12-31T00:00:00\", \"total capital\": 0.018829392811723356}, {\"date\": \"2002-01-31T00:00:00\", \"total capital\": 0.012058793480617114}, {\"date\": \"2002-02-28T00:00:00\", \"total capital\": -0.018465876742059906}, {\"date\": \"2002-03-31T00:00:00\", \"total capital\": 0.029619217019424715}, {\"date\": \"2002-04-30T00:00:00\", \"total capital\": -0.03304901065003618}, {\"date\": \"2002-05-31T00:00:00\", \"total capital\": -0.010213960418584578}, {\"date\": \"2002-06-30T00:00:00\", \"total capital\": -0.019456957682329468}, {\"date\": \"2002-07-31T00:00:00\", \"total capital\": -0.05971319609901182}, {\"date\": \"2002-08-31T00:00:00\", \"total capital\": -0.0051562659161277224}, {\"date\": \"2002-09-30T00:00:00\", \"total capital\": -0.03975526946624841}, {\"date\": \"2002-10-31T00:00:00\", \"total capital\": 0.05925087813671426}, {\"date\": \"2002-11-30T00:00:00\", \"total capital\": 0.014658869982876022}, {\"date\": \"2002-12-31T00:00:00\", \"total capital\": -0.025952351921457395}, {\"date\": \"2003-01-31T00:00:00\", \"total capital\": -0.01651845657885176}, {\"date\": \"2003-02-28T00:00:00\", \"total capital\": 0.007366982023500945}, {\"date\": \"2003-03-31T00:00:00\", \"total capital\": -0.00023302488804644028}, {\"date\": \"2003-04-30T00:00:00\", \"total capital\": 0.010804955360823154}, {\"date\": \"2003-05-31T00:00:00\", \"total capital\": 0.04176299542152684}, {\"date\": \"2003-06-30T00:00:00\", \"total capital\": 0.012320891101416098}, {\"date\": \"2003-07-31T00:00:00\", \"total capital\": 0.018638236271054875}, {\"date\": \"2003-08-31T00:00:00\", \"total capital\": 0.024887307060195818}, {\"date\": \"2003-09-30T00:00:00\", \"total capital\": -0.011065543429771063}, {\"date\": \"2003-10-31T00:00:00\", \"total capital\": 0.007789199847073602}, {\"date\": \"2003-11-30T00:00:00\", \"total capital\": -0.01603785424300419}, {\"date\": \"2003-12-31T00:00:00\", \"total capital\": 0.039203143693984144}, {\"date\": \"2004-01-31T00:00:00\", \"total capital\": 0.008756565690941853}, {\"date\": \"2004-02-29T00:00:00\", \"total capital\": 0.010974082605447633}, {\"date\": \"2004-03-31T00:00:00\", \"total capital\": 0.00784196031209361}, {\"date\": \"2004-04-30T00:00:00\", \"total capital\": 0.004832384883169283}, {\"date\": \"2004-05-31T00:00:00\", \"total capital\": 0.01846803385715079}, {\"date\": \"2004-06-30T00:00:00\", \"total capital\": 0.042705783393469865}, {\"date\": \"2004-07-31T00:00:00\", \"total capital\": 0.007066785325209102}, {\"date\": \"2004-08-31T00:00:00\", \"total capital\": 0.004770478740704354}, {\"date\": \"2004-09-30T00:00:00\", \"total capital\": 0.030224496709316373}, {\"date\": \"2004-10-31T00:00:00\", \"total capital\": 0.05864965272784661}, {\"date\": \"2004-11-30T00:00:00\", \"total capital\": 0.06131314783888575}, {\"date\": \"2004-12-31T00:00:00\", \"total capital\": -0.005962679691780326}, {\"date\": \"2005-01-31T00:00:00\", \"total capital\": 0.02846461987436344}, {\"date\": \"2005-02-28T00:00:00\", \"total capital\": 0.06482708196482312}, {\"date\": \"2005-03-31T00:00:00\", \"total capital\": -0.02905051647396817}, {\"date\": \"2005-04-30T00:00:00\", \"total capital\": -0.02187210520535432}, {\"date\": \"2005-05-31T00:00:00\", \"total capital\": 0.016614536383221523}, {\"date\": \"2005-06-30T00:00:00\", \"total capital\": -0.012084144258754148}, {\"date\": \"2005-07-31T00:00:00\", \"total capital\": 0.03332875826605797}, {\"date\": \"2005-08-31T00:00:00\", \"total capital\": 0.030601668226510226}, {\"date\": \"2005-09-30T00:00:00\", \"total capital\": 0.024528252676059292}, {\"date\": \"2005-10-31T00:00:00\", \"total capital\": -0.012385481850980096}, {\"date\": \"2005-11-30T00:00:00\", \"total capital\": 0.04637539636042387}, {\"date\": \"2005-12-31T00:00:00\", \"total capital\": -0.004645513510378008}, {\"date\": \"2006-01-31T00:00:00\", \"total capital\": 0.0417033432814935}, {\"date\": \"2006-02-28T00:00:00\", \"total capital\": -0.03023163469331669}, {\"date\": \"2006-03-31T00:00:00\", \"total capital\": -0.005838273540000327}, {\"date\": \"2006-04-30T00:00:00\", \"total capital\": 0.009079540384333784}, {\"date\": \"2006-05-31T00:00:00\", \"total capital\": -0.0377368675705958}, {\"date\": \"2006-06-30T00:00:00\", \"total capital\": -0.0008089569314955192}, {\"date\": \"2006-07-31T00:00:00\", \"total capital\": 0.05344001609589988}, {\"date\": \"2006-08-31T00:00:00\", \"total capital\": 0.011183164290519798}, {\"date\": \"2006-09-30T00:00:00\", \"total capital\": 0.028063913100267346}, {\"date\": \"2006-10-31T00:00:00\", \"total capital\": 0.02813177048185933}, {\"date\": \"2006-11-30T00:00:00\", \"total capital\": 0.0397622851074424}, {\"date\": \"2006-12-31T00:00:00\", \"total capital\": -0.009064534205715957}, {\"date\": \"2007-01-31T00:00:00\", \"total capital\": 7.52131038337378e-05}, {\"date\": \"2007-02-28T00:00:00\", \"total capital\": -0.02034071990242048}, {\"date\": \"2007-03-31T00:00:00\", \"total capital\": 0.023654150541841057}, {\"date\": \"2007-04-30T00:00:00\", \"total capital\": 0.032805295662908796}, {\"date\": \"2007-05-31T00:00:00\", \"total capital\": 0.047048522607685106}, {\"date\": \"2007-06-30T00:00:00\", \"total capital\": -0.003654966280790206}, {\"date\": \"2007-07-31T00:00:00\", \"total capital\": 0.01253464487187439}, {\"date\": \"2007-08-31T00:00:00\", \"total capital\": 0.009237735236823807}, {\"date\": \"2007-09-30T00:00:00\", \"total capital\": 0.035760499577469185}, {\"date\": \"2007-10-31T00:00:00\", \"total capital\": 0.0716239609347713}, {\"date\": \"2007-11-30T00:00:00\", \"total capital\": -0.02338739863722228}, {\"date\": \"2007-12-31T00:00:00\", \"total capital\": 0.03272910623677272}, {\"date\": \"2008-01-31T00:00:00\", \"total capital\": -0.07648891709752637}, {\"date\": \"2008-02-29T00:00:00\", \"total capital\": -0.03391854861531041}, {\"date\": \"2008-03-31T00:00:00\", \"total capital\": 0.02417628945995176}, {\"date\": \"2008-04-30T00:00:00\", \"total capital\": 0.052747976416118725}, {\"date\": \"2008-05-31T00:00:00\", \"total capital\": 0.0038214807710599263}, {\"date\": \"2008-06-30T00:00:00\", \"total capital\": -0.022756247372829885}, {\"date\": \"2008-07-31T00:00:00\", \"total capital\": -0.035036400336977525}, {\"date\": \"2008-08-31T00:00:00\", \"total capital\": 0.020157490239852693}, {\"date\": \"2008-09-30T00:00:00\", \"total capital\": -0.05910201232905632}, {\"date\": \"2008-10-31T00:00:00\", \"total capital\": -0.03987848800768401}, {\"date\": \"2008-11-30T00:00:00\", \"total capital\": -0.016890987403574642}, {\"date\": \"2008-12-31T00:00:00\", \"total capital\": -0.01738084076542945}, {\"date\": \"2009-01-31T00:00:00\", \"total capital\": -0.017448278728867228}, {\"date\": \"2009-02-28T00:00:00\", \"total capital\": -0.030634242229046427}, {\"date\": \"2009-03-31T00:00:00\", \"total capital\": 0.04910897100719991}, {\"date\": \"2009-04-30T00:00:00\", \"total capital\": 0.04144295768831996}, {\"date\": \"2009-05-31T00:00:00\", \"total capital\": 0.026735404178893196}, {\"date\": \"2009-06-30T00:00:00\", \"total capital\": 0.029784899662263165}, {\"date\": \"2009-07-31T00:00:00\", \"total capital\": 0.022012996705208288}, {\"date\": \"2009-08-31T00:00:00\", \"total capital\": 0.010368990666470568}, {\"date\": \"2009-09-30T00:00:00\", \"total capital\": 0.020464663721507126}, {\"date\": \"2009-10-31T00:00:00\", \"total capital\": 0.02326750710017933}, {\"date\": \"2009-11-30T00:00:00\", \"total capital\": 0.029584100383682532}, {\"date\": \"2009-12-31T00:00:00\", \"total capital\": -0.004321519123283157}, {\"date\": \"2010-01-31T00:00:00\", \"total capital\": -0.03534550668473846}, {\"date\": \"2010-02-28T00:00:00\", \"total capital\": 0.015865510405525196}, {\"date\": \"2010-03-31T00:00:00\", \"total capital\": 0.031433563985681756}, {\"date\": \"2010-04-30T00:00:00\", \"total capital\": 0.02547519122878894}, {\"date\": \"2010-05-31T00:00:00\", \"total capital\": -0.045049653744646756}, {\"date\": \"2010-06-30T00:00:00\", \"total capital\": -0.030339943657376023}, {\"date\": \"2010-07-31T00:00:00\", \"total capital\": 0.03070800411966168}, {\"date\": \"2010-08-31T00:00:00\", \"total capital\": -0.020898540987508984}, {\"date\": \"2010-09-30T00:00:00\", \"total capital\": 0.03988989781949681}, {\"date\": \"2010-10-31T00:00:00\", \"total capital\": 0.037536332937868844}, {\"date\": \"2010-11-30T00:00:00\", \"total capital\": 0.008748643670664302}, {\"date\": \"2010-12-31T00:00:00\", \"total capital\": 0.031182852443552678}, {\"date\": \"2011-01-31T00:00:00\", \"total capital\": 0.027257635474357667}, {\"date\": \"2011-02-28T00:00:00\", \"total capital\": 0.01425180372659618}, {\"date\": \"2011-03-31T00:00:00\", \"total capital\": -0.012002135738346631}, {\"date\": \"2011-04-30T00:00:00\", \"total capital\": 0.012929106804423496}, {\"date\": \"2011-05-31T00:00:00\", \"total capital\": -0.014581518070904242}, {\"date\": \"2011-06-30T00:00:00\", \"total capital\": -0.004065721526046562}, {\"date\": \"2011-07-31T00:00:00\", \"total capital\": 0.028225104826669956}, {\"date\": \"2011-08-31T00:00:00\", \"total capital\": -0.018540964892760026}, {\"date\": \"2011-09-30T00:00:00\", \"total capital\": -0.01476829809876512}, {\"date\": \"2011-10-31T00:00:00\", \"total capital\": 0.03522185987261439}, {\"date\": \"2011-11-30T00:00:00\", \"total capital\": -0.006361526904453796}, {\"date\": \"2011-12-31T00:00:00\", \"total capital\": 0.021772384416687274}, {\"date\": \"2012-01-31T00:00:00\", \"total capital\": 0.03707536910675091}, {\"date\": \"2012-02-29T00:00:00\", \"total capital\": 0.04834982816093114}, {\"date\": \"2012-03-31T00:00:00\", \"total capital\": 0.018891532260011168}, {\"date\": \"2012-04-30T00:00:00\", \"total capital\": -0.005313252740854035}, {\"date\": \"2012-05-31T00:00:00\", \"total capital\": -0.030410188459119247}, {\"date\": \"2012-06-30T00:00:00\", \"total capital\": 0.02695496234684369}, {\"date\": \"2012-07-31T00:00:00\", \"total capital\": 0.004285169960829727}, {\"date\": \"2012-08-31T00:00:00\", \"total capital\": 0.02439581080527864}, {\"date\": \"2012-09-30T00:00:00\", \"total capital\": 0.004876587082401018}, {\"date\": \"2012-10-31T00:00:00\", \"total capital\": -0.022965419202755744}, {\"date\": \"2012-11-30T00:00:00\", \"total capital\": -0.01586672458268623}, {\"date\": \"2012-12-31T00:00:00\", \"total capital\": -0.01655143703670836}, {\"date\": \"2013-01-31T00:00:00\", \"total capital\": -0.009359070199752906}, {\"date\": \"2013-02-28T00:00:00\", \"total capital\": -0.00018963407515493191}, {\"date\": \"2013-03-31T00:00:00\", \"total capital\": 0.00615623431067891}, {\"date\": \"2013-04-30T00:00:00\", \"total capital\": 0.02113101076326318}, {\"date\": \"2013-05-31T00:00:00\", \"total capital\": 0.017408836788286974}, {\"date\": \"2013-06-30T00:00:00\", \"total capital\": -0.019340259350234645}, {\"date\": \"2013-07-31T00:00:00\", \"total capital\": 0.015977202560147008}, {\"date\": \"2013-08-31T00:00:00\", \"total capital\": 0.00822740840637537}, {\"date\": \"2013-09-30T00:00:00\", \"total capital\": -0.006350512807032027}, {\"date\": \"2013-10-31T00:00:00\", \"total capital\": 0.03213896718261933}, {\"date\": \"2013-11-30T00:00:00\", \"total capital\": 0.03331681400688291}, {\"date\": \"2013-12-31T00:00:00\", \"total capital\": 0.015077012943193635}, {\"date\": \"2014-01-31T00:00:00\", \"total capital\": -0.03268527328375148}, {\"date\": \"2014-02-28T00:00:00\", \"total capital\": 0.0223019577197634}, {\"date\": \"2014-03-31T00:00:00\", \"total capital\": 0.016443649662509108}, {\"date\": \"2014-04-30T00:00:00\", \"total capital\": 0.022503164903479034}, {\"date\": \"2014-05-31T00:00:00\", \"total capital\": 0.012523564443343016}, {\"date\": \"2014-06-30T00:00:00\", \"total capital\": 0.007211762721598847}, {\"date\": \"2014-07-31T00:00:00\", \"total capital\": 0.006133673180810373}, {\"date\": \"2014-08-31T00:00:00\", \"total capital\": 0.02294360958386421}, {\"date\": \"2014-09-30T00:00:00\", \"total capital\": -0.010354067373933407}, {\"date\": \"2014-10-31T00:00:00\", \"total capital\": 0.018625074787298468}, {\"date\": \"2014-11-30T00:00:00\", \"total capital\": 0.007936537176803427}, {\"date\": \"2014-12-31T00:00:00\", \"total capital\": -0.0115239507276923}, {\"date\": \"2015-01-31T00:00:00\", \"total capital\": -0.020907506789121344}, {\"date\": \"2015-02-28T00:00:00\", \"total capital\": 0.032626631853272414}, {\"date\": \"2015-03-31T00:00:00\", \"total capital\": -0.023550006567134796}, {\"date\": \"2015-04-30T00:00:00\", \"total capital\": 0.03586225681652322}, {\"date\": \"2015-05-31T00:00:00\", \"total capital\": -0.0012344069474794495}, {\"date\": \"2015-06-30T00:00:00\", \"total capital\": -0.018915375820793945}, {\"date\": \"2015-07-31T00:00:00\", \"total capital\": -0.005999802257040554}, {\"date\": \"2015-08-31T00:00:00\", \"total capital\": -0.027305893187148156}, {\"date\": \"2015-09-30T00:00:00\", \"total capital\": -0.0029380334399659036}, {\"date\": \"2015-10-31T00:00:00\", \"total capital\": 0.06417673388129774}, {\"date\": \"2015-11-30T00:00:00\", \"total capital\": 0.0048949243829039535}, {\"date\": \"2015-12-31T00:00:00\", \"total capital\": -0.022573843619468903}, {\"date\": \"2016-01-31T00:00:00\", \"total capital\": -0.012576903720295407}, {\"date\": \"2016-02-29T00:00:00\", \"total capital\": -0.002718637510768951}, {\"date\": \"2016-03-31T00:00:00\", \"total capital\": 0.03985665142246231}, {\"date\": \"2016-04-30T00:00:00\", \"total capital\": -0.023564690387599674}, {\"date\": \"2016-05-31T00:00:00\", \"total capital\": 0.02437227223317695}, {\"date\": \"2016-06-30T00:00:00\", \"total capital\": -0.001203908101918616}, {\"date\": \"2016-07-31T00:00:00\", \"total capital\": 0.0194261355156109}, {\"date\": \"2016-08-31T00:00:00\", \"total capital\": 0.004948099702185571}, {\"date\": \"2016-09-30T00:00:00\", \"total capital\": 0.010459811924709905}, {\"date\": \"2016-10-31T00:00:00\", \"total capital\": -0.0024042723051814763}, {\"date\": \"2016-11-30T00:00:00\", \"total capital\": 0.00986604874941377}, {\"date\": \"2016-12-31T00:00:00\", \"total capital\": 0.018784998030971556}, {\"date\": \"2017-01-31T00:00:00\", \"total capital\": -0.0007937884328947931}, {\"date\": \"2017-02-28T00:00:00\", \"total capital\": 0.015009831305861088}, {\"date\": \"2017-03-31T00:00:00\", \"total capital\": 0.013476603334253934}, {\"date\": \"2017-04-30T00:00:00\", \"total capital\": 0.0050536269130265765}, {\"date\": \"2017-05-31T00:00:00\", \"total capital\": 0.013022131001716675}, {\"date\": \"2017-06-30T00:00:00\", \"total capital\": -0.009937053758532377}, {\"date\": \"2017-07-31T00:00:00\", \"total capital\": 0.011703557766465478}, {\"date\": \"2017-08-31T00:00:00\", \"total capital\": 0.013670856756122785}, {\"date\": \"2017-09-30T00:00:00\", \"total capital\": 0.005103616477155848}, {\"date\": \"2017-10-31T00:00:00\", \"total capital\": 0.0353132639354834}, {\"date\": \"2017-11-30T00:00:00\", \"total capital\": 0.0072290339928962055}, {\"date\": \"2017-12-31T00:00:00\", \"total capital\": 0.0009656226203167417}, {\"date\": \"2018-01-31T00:00:00\", \"total capital\": 0.02376822756333996}, {\"date\": \"2018-02-28T00:00:00\", \"total capital\": -0.015357917751636085}, {\"date\": \"2018-03-31T00:00:00\", \"total capital\": -0.015851471502523196}, {\"date\": \"2018-04-30T00:00:00\", \"total capital\": 0.010211557876266264}, {\"date\": \"2018-05-31T00:00:00\", \"total capital\": 0.04026262814425863}, {\"date\": \"2018-06-30T00:00:00\", \"total capital\": 0.002246417686430968}, {\"date\": \"2018-07-31T00:00:00\", \"total capital\": 0.012350740853056319}, {\"date\": \"2018-08-31T00:00:00\", \"total capital\": 0.037387540105983774}, {\"date\": \"2018-09-30T00:00:00\", \"total capital\": 0.013601613859161032}, {\"date\": \"2018-10-31T00:00:00\", \"total capital\": -0.02682221582053257}, {\"date\": \"2018-11-30T00:00:00\", \"total capital\": -0.018808732806539608}, {\"date\": \"2018-12-31T00:00:00\", \"total capital\": -0.05838015461304713}, {\"date\": \"2019-01-31T00:00:00\", \"total capital\": 0.026860332984792956}, {\"date\": \"2019-02-28T00:00:00\", \"total capital\": 0.03658679169907075}, {\"date\": \"2019-03-31T00:00:00\", \"total capital\": 0.026971233980473297}, {\"date\": \"2019-04-30T00:00:00\", \"total capital\": 0.023294755668471945}, {\"date\": \"2019-05-31T00:00:00\", \"total capital\": -0.046871906950626596}, {\"date\": \"2019-06-30T00:00:00\", \"total capital\": 0.048519939977912374}]}}, {\"mode\": \"vega-lite\"});\n",
       "</script>"
      ],
      "text/plain": [
       "alt.Chart(...)"
      ]
     },
     "execution_count": 49,
     "metadata": {},
     "output_type": "execute_result"
    }
   ],
   "source": [
    "monthly_returns_heatmap(bt.balance)"
   ]
  },
  {
   "cell_type": "code",
   "execution_count": 50,
   "metadata": {
    "ExecuteTime": {
     "end_time": "2022-07-04T05:17:45.905568Z",
     "start_time": "2022-07-04T05:17:45.875366Z"
    }
   },
   "outputs": [
    {
     "ename": "MaxRowsError",
     "evalue": "The number of rows in your dataset is greater than the maximum allowed (5000). For information on how to plot larger datasets in Altair, see the documentation",
     "output_type": "error",
     "traceback": [
      "\u001b[0;31m---------------------------------------------------------------------------\u001b[0m",
      "\u001b[0;31mMaxRowsError\u001b[0m                              Traceback (most recent call last)",
      "\u001b[0;32m~/miniforge3/envs/mori_opt_earnings/lib/python3.7/site-packages/altair/vegalite/v4/api.py\u001b[0m in \u001b[0;36mto_dict\u001b[0;34m(self, *args, **kwargs)\u001b[0m\n\u001b[1;32m   2018\u001b[0m             \u001b[0mcopy\u001b[0m\u001b[0;34m.\u001b[0m\u001b[0mdata\u001b[0m \u001b[0;34m=\u001b[0m \u001b[0mcore\u001b[0m\u001b[0;34m.\u001b[0m\u001b[0mInlineData\u001b[0m\u001b[0;34m(\u001b[0m\u001b[0mvalues\u001b[0m\u001b[0;34m=\u001b[0m\u001b[0;34m[\u001b[0m\u001b[0;34m{\u001b[0m\u001b[0;34m}\u001b[0m\u001b[0;34m]\u001b[0m\u001b[0;34m)\u001b[0m\u001b[0;34m\u001b[0m\u001b[0;34m\u001b[0m\u001b[0m\n\u001b[1;32m   2019\u001b[0m             \u001b[0;32mreturn\u001b[0m \u001b[0msuper\u001b[0m\u001b[0;34m(\u001b[0m\u001b[0mChart\u001b[0m\u001b[0;34m,\u001b[0m \u001b[0mcopy\u001b[0m\u001b[0;34m)\u001b[0m\u001b[0;34m.\u001b[0m\u001b[0mto_dict\u001b[0m\u001b[0;34m(\u001b[0m\u001b[0;34m*\u001b[0m\u001b[0margs\u001b[0m\u001b[0;34m,\u001b[0m \u001b[0;34m**\u001b[0m\u001b[0mkwargs\u001b[0m\u001b[0;34m)\u001b[0m\u001b[0;34m\u001b[0m\u001b[0;34m\u001b[0m\u001b[0m\n\u001b[0;32m-> 2020\u001b[0;31m         \u001b[0;32mreturn\u001b[0m \u001b[0msuper\u001b[0m\u001b[0;34m(\u001b[0m\u001b[0;34m)\u001b[0m\u001b[0;34m.\u001b[0m\u001b[0mto_dict\u001b[0m\u001b[0;34m(\u001b[0m\u001b[0;34m*\u001b[0m\u001b[0margs\u001b[0m\u001b[0;34m,\u001b[0m \u001b[0;34m**\u001b[0m\u001b[0mkwargs\u001b[0m\u001b[0;34m)\u001b[0m\u001b[0;34m\u001b[0m\u001b[0;34m\u001b[0m\u001b[0m\n\u001b[0m\u001b[1;32m   2021\u001b[0m \u001b[0;34m\u001b[0m\u001b[0m\n\u001b[1;32m   2022\u001b[0m     \u001b[0;32mdef\u001b[0m \u001b[0madd_selection\u001b[0m\u001b[0;34m(\u001b[0m\u001b[0mself\u001b[0m\u001b[0;34m,\u001b[0m \u001b[0;34m*\u001b[0m\u001b[0mselections\u001b[0m\u001b[0;34m)\u001b[0m\u001b[0;34m:\u001b[0m\u001b[0;34m\u001b[0m\u001b[0;34m\u001b[0m\u001b[0m\n",
      "\u001b[0;32m~/miniforge3/envs/mori_opt_earnings/lib/python3.7/site-packages/altair/vegalite/v4/api.py\u001b[0m in \u001b[0;36mto_dict\u001b[0;34m(self, *args, **kwargs)\u001b[0m\n\u001b[1;32m    372\u001b[0m         \u001b[0mcopy\u001b[0m \u001b[0;34m=\u001b[0m \u001b[0mself\u001b[0m\u001b[0;34m.\u001b[0m\u001b[0mcopy\u001b[0m\u001b[0;34m(\u001b[0m\u001b[0mdeep\u001b[0m\u001b[0;34m=\u001b[0m\u001b[0;32mFalse\u001b[0m\u001b[0;34m)\u001b[0m\u001b[0;34m\u001b[0m\u001b[0;34m\u001b[0m\u001b[0m\n\u001b[1;32m    373\u001b[0m         \u001b[0moriginal_data\u001b[0m \u001b[0;34m=\u001b[0m \u001b[0mgetattr\u001b[0m\u001b[0;34m(\u001b[0m\u001b[0mcopy\u001b[0m\u001b[0;34m,\u001b[0m \u001b[0;34m\"data\"\u001b[0m\u001b[0;34m,\u001b[0m \u001b[0mUndefined\u001b[0m\u001b[0;34m)\u001b[0m\u001b[0;34m\u001b[0m\u001b[0;34m\u001b[0m\u001b[0m\n\u001b[0;32m--> 374\u001b[0;31m         \u001b[0mcopy\u001b[0m\u001b[0;34m.\u001b[0m\u001b[0mdata\u001b[0m \u001b[0;34m=\u001b[0m \u001b[0m_prepare_data\u001b[0m\u001b[0;34m(\u001b[0m\u001b[0moriginal_data\u001b[0m\u001b[0;34m,\u001b[0m \u001b[0mcontext\u001b[0m\u001b[0;34m)\u001b[0m\u001b[0;34m\u001b[0m\u001b[0;34m\u001b[0m\u001b[0m\n\u001b[0m\u001b[1;32m    375\u001b[0m \u001b[0;34m\u001b[0m\u001b[0m\n\u001b[1;32m    376\u001b[0m         \u001b[0;32mif\u001b[0m \u001b[0moriginal_data\u001b[0m \u001b[0;32mis\u001b[0m \u001b[0;32mnot\u001b[0m \u001b[0mUndefined\u001b[0m\u001b[0;34m:\u001b[0m\u001b[0;34m\u001b[0m\u001b[0;34m\u001b[0m\u001b[0m\n",
      "\u001b[0;32m~/miniforge3/envs/mori_opt_earnings/lib/python3.7/site-packages/altair/vegalite/v4/api.py\u001b[0m in \u001b[0;36m_prepare_data\u001b[0;34m(data, context)\u001b[0m\n\u001b[1;32m     87\u001b[0m     \u001b[0;31m# convert dataframes  or objects with __geo_interface__ to dict\u001b[0m\u001b[0;34m\u001b[0m\u001b[0;34m\u001b[0m\u001b[0;34m\u001b[0m\u001b[0m\n\u001b[1;32m     88\u001b[0m     \u001b[0;32mif\u001b[0m \u001b[0misinstance\u001b[0m\u001b[0;34m(\u001b[0m\u001b[0mdata\u001b[0m\u001b[0;34m,\u001b[0m \u001b[0mpd\u001b[0m\u001b[0;34m.\u001b[0m\u001b[0mDataFrame\u001b[0m\u001b[0;34m)\u001b[0m \u001b[0;32mor\u001b[0m \u001b[0mhasattr\u001b[0m\u001b[0;34m(\u001b[0m\u001b[0mdata\u001b[0m\u001b[0;34m,\u001b[0m \u001b[0;34m\"__geo_interface__\"\u001b[0m\u001b[0;34m)\u001b[0m\u001b[0;34m:\u001b[0m\u001b[0;34m\u001b[0m\u001b[0;34m\u001b[0m\u001b[0m\n\u001b[0;32m---> 89\u001b[0;31m         \u001b[0mdata\u001b[0m \u001b[0;34m=\u001b[0m \u001b[0m_pipe\u001b[0m\u001b[0;34m(\u001b[0m\u001b[0mdata\u001b[0m\u001b[0;34m,\u001b[0m \u001b[0mdata_transformers\u001b[0m\u001b[0;34m.\u001b[0m\u001b[0mget\u001b[0m\u001b[0;34m(\u001b[0m\u001b[0;34m)\u001b[0m\u001b[0;34m)\u001b[0m\u001b[0;34m\u001b[0m\u001b[0;34m\u001b[0m\u001b[0m\n\u001b[0m\u001b[1;32m     90\u001b[0m \u001b[0;34m\u001b[0m\u001b[0m\n\u001b[1;32m     91\u001b[0m     \u001b[0;31m# convert string input to a URLData\u001b[0m\u001b[0;34m\u001b[0m\u001b[0;34m\u001b[0m\u001b[0;34m\u001b[0m\u001b[0m\n",
      "\u001b[0;32m~/miniforge3/envs/mori_opt_earnings/lib/python3.7/site-packages/toolz/functoolz.py\u001b[0m in \u001b[0;36mpipe\u001b[0;34m(data, *funcs)\u001b[0m\n\u001b[1;32m    628\u001b[0m     \"\"\"\n\u001b[1;32m    629\u001b[0m     \u001b[0;32mfor\u001b[0m \u001b[0mfunc\u001b[0m \u001b[0;32min\u001b[0m \u001b[0mfuncs\u001b[0m\u001b[0;34m:\u001b[0m\u001b[0;34m\u001b[0m\u001b[0;34m\u001b[0m\u001b[0m\n\u001b[0;32m--> 630\u001b[0;31m         \u001b[0mdata\u001b[0m \u001b[0;34m=\u001b[0m \u001b[0mfunc\u001b[0m\u001b[0;34m(\u001b[0m\u001b[0mdata\u001b[0m\u001b[0;34m)\u001b[0m\u001b[0;34m\u001b[0m\u001b[0;34m\u001b[0m\u001b[0m\n\u001b[0m\u001b[1;32m    631\u001b[0m     \u001b[0;32mreturn\u001b[0m \u001b[0mdata\u001b[0m\u001b[0;34m\u001b[0m\u001b[0;34m\u001b[0m\u001b[0m\n\u001b[1;32m    632\u001b[0m \u001b[0;34m\u001b[0m\u001b[0m\n",
      "\u001b[0;32m~/miniforge3/envs/mori_opt_earnings/lib/python3.7/site-packages/toolz/functoolz.py\u001b[0m in \u001b[0;36m__call__\u001b[0;34m(self, *args, **kwargs)\u001b[0m\n\u001b[1;32m    304\u001b[0m     \u001b[0;32mdef\u001b[0m \u001b[0m__call__\u001b[0m\u001b[0;34m(\u001b[0m\u001b[0mself\u001b[0m\u001b[0;34m,\u001b[0m \u001b[0;34m*\u001b[0m\u001b[0margs\u001b[0m\u001b[0;34m,\u001b[0m \u001b[0;34m**\u001b[0m\u001b[0mkwargs\u001b[0m\u001b[0;34m)\u001b[0m\u001b[0;34m:\u001b[0m\u001b[0;34m\u001b[0m\u001b[0;34m\u001b[0m\u001b[0m\n\u001b[1;32m    305\u001b[0m         \u001b[0;32mtry\u001b[0m\u001b[0;34m:\u001b[0m\u001b[0;34m\u001b[0m\u001b[0;34m\u001b[0m\u001b[0m\n\u001b[0;32m--> 306\u001b[0;31m             \u001b[0;32mreturn\u001b[0m \u001b[0mself\u001b[0m\u001b[0;34m.\u001b[0m\u001b[0m_partial\u001b[0m\u001b[0;34m(\u001b[0m\u001b[0;34m*\u001b[0m\u001b[0margs\u001b[0m\u001b[0;34m,\u001b[0m \u001b[0;34m**\u001b[0m\u001b[0mkwargs\u001b[0m\u001b[0;34m)\u001b[0m\u001b[0;34m\u001b[0m\u001b[0;34m\u001b[0m\u001b[0m\n\u001b[0m\u001b[1;32m    307\u001b[0m         \u001b[0;32mexcept\u001b[0m \u001b[0mTypeError\u001b[0m \u001b[0;32mas\u001b[0m \u001b[0mexc\u001b[0m\u001b[0;34m:\u001b[0m\u001b[0;34m\u001b[0m\u001b[0;34m\u001b[0m\u001b[0m\n\u001b[1;32m    308\u001b[0m             \u001b[0;32mif\u001b[0m \u001b[0mself\u001b[0m\u001b[0;34m.\u001b[0m\u001b[0m_should_curry\u001b[0m\u001b[0;34m(\u001b[0m\u001b[0margs\u001b[0m\u001b[0;34m,\u001b[0m \u001b[0mkwargs\u001b[0m\u001b[0;34m,\u001b[0m \u001b[0mexc\u001b[0m\u001b[0;34m)\u001b[0m\u001b[0;34m:\u001b[0m\u001b[0;34m\u001b[0m\u001b[0;34m\u001b[0m\u001b[0m\n",
      "\u001b[0;32m~/miniforge3/envs/mori_opt_earnings/lib/python3.7/site-packages/altair/vegalite/data.py\u001b[0m in \u001b[0;36mdefault_data_transformer\u001b[0;34m(data, max_rows)\u001b[0m\n\u001b[1;32m     17\u001b[0m \u001b[0;34m@\u001b[0m\u001b[0mcurried\u001b[0m\u001b[0;34m.\u001b[0m\u001b[0mcurry\u001b[0m\u001b[0;34m\u001b[0m\u001b[0;34m\u001b[0m\u001b[0m\n\u001b[1;32m     18\u001b[0m \u001b[0;32mdef\u001b[0m \u001b[0mdefault_data_transformer\u001b[0m\u001b[0;34m(\u001b[0m\u001b[0mdata\u001b[0m\u001b[0;34m,\u001b[0m \u001b[0mmax_rows\u001b[0m\u001b[0;34m=\u001b[0m\u001b[0;36m5000\u001b[0m\u001b[0;34m)\u001b[0m\u001b[0;34m:\u001b[0m\u001b[0;34m\u001b[0m\u001b[0;34m\u001b[0m\u001b[0m\n\u001b[0;32m---> 19\u001b[0;31m     \u001b[0;32mreturn\u001b[0m \u001b[0mcurried\u001b[0m\u001b[0;34m.\u001b[0m\u001b[0mpipe\u001b[0m\u001b[0;34m(\u001b[0m\u001b[0mdata\u001b[0m\u001b[0;34m,\u001b[0m \u001b[0mlimit_rows\u001b[0m\u001b[0;34m(\u001b[0m\u001b[0mmax_rows\u001b[0m\u001b[0;34m=\u001b[0m\u001b[0mmax_rows\u001b[0m\u001b[0;34m)\u001b[0m\u001b[0;34m,\u001b[0m \u001b[0mto_values\u001b[0m\u001b[0;34m)\u001b[0m\u001b[0;34m\u001b[0m\u001b[0;34m\u001b[0m\u001b[0m\n\u001b[0m\u001b[1;32m     20\u001b[0m \u001b[0;34m\u001b[0m\u001b[0m\n\u001b[1;32m     21\u001b[0m \u001b[0;34m\u001b[0m\u001b[0m\n",
      "\u001b[0;32m~/miniforge3/envs/mori_opt_earnings/lib/python3.7/site-packages/toolz/functoolz.py\u001b[0m in \u001b[0;36mpipe\u001b[0;34m(data, *funcs)\u001b[0m\n\u001b[1;32m    628\u001b[0m     \"\"\"\n\u001b[1;32m    629\u001b[0m     \u001b[0;32mfor\u001b[0m \u001b[0mfunc\u001b[0m \u001b[0;32min\u001b[0m \u001b[0mfuncs\u001b[0m\u001b[0;34m:\u001b[0m\u001b[0;34m\u001b[0m\u001b[0;34m\u001b[0m\u001b[0m\n\u001b[0;32m--> 630\u001b[0;31m         \u001b[0mdata\u001b[0m \u001b[0;34m=\u001b[0m \u001b[0mfunc\u001b[0m\u001b[0;34m(\u001b[0m\u001b[0mdata\u001b[0m\u001b[0;34m)\u001b[0m\u001b[0;34m\u001b[0m\u001b[0;34m\u001b[0m\u001b[0m\n\u001b[0m\u001b[1;32m    631\u001b[0m     \u001b[0;32mreturn\u001b[0m \u001b[0mdata\u001b[0m\u001b[0;34m\u001b[0m\u001b[0;34m\u001b[0m\u001b[0m\n\u001b[1;32m    632\u001b[0m \u001b[0;34m\u001b[0m\u001b[0m\n",
      "\u001b[0;32m~/miniforge3/envs/mori_opt_earnings/lib/python3.7/site-packages/toolz/functoolz.py\u001b[0m in \u001b[0;36m__call__\u001b[0;34m(self, *args, **kwargs)\u001b[0m\n\u001b[1;32m    304\u001b[0m     \u001b[0;32mdef\u001b[0m \u001b[0m__call__\u001b[0m\u001b[0;34m(\u001b[0m\u001b[0mself\u001b[0m\u001b[0;34m,\u001b[0m \u001b[0;34m*\u001b[0m\u001b[0margs\u001b[0m\u001b[0;34m,\u001b[0m \u001b[0;34m**\u001b[0m\u001b[0mkwargs\u001b[0m\u001b[0;34m)\u001b[0m\u001b[0;34m:\u001b[0m\u001b[0;34m\u001b[0m\u001b[0;34m\u001b[0m\u001b[0m\n\u001b[1;32m    305\u001b[0m         \u001b[0;32mtry\u001b[0m\u001b[0;34m:\u001b[0m\u001b[0;34m\u001b[0m\u001b[0;34m\u001b[0m\u001b[0m\n\u001b[0;32m--> 306\u001b[0;31m             \u001b[0;32mreturn\u001b[0m \u001b[0mself\u001b[0m\u001b[0;34m.\u001b[0m\u001b[0m_partial\u001b[0m\u001b[0;34m(\u001b[0m\u001b[0;34m*\u001b[0m\u001b[0margs\u001b[0m\u001b[0;34m,\u001b[0m \u001b[0;34m**\u001b[0m\u001b[0mkwargs\u001b[0m\u001b[0;34m)\u001b[0m\u001b[0;34m\u001b[0m\u001b[0;34m\u001b[0m\u001b[0m\n\u001b[0m\u001b[1;32m    307\u001b[0m         \u001b[0;32mexcept\u001b[0m \u001b[0mTypeError\u001b[0m \u001b[0;32mas\u001b[0m \u001b[0mexc\u001b[0m\u001b[0;34m:\u001b[0m\u001b[0;34m\u001b[0m\u001b[0;34m\u001b[0m\u001b[0m\n\u001b[1;32m    308\u001b[0m             \u001b[0;32mif\u001b[0m \u001b[0mself\u001b[0m\u001b[0;34m.\u001b[0m\u001b[0m_should_curry\u001b[0m\u001b[0;34m(\u001b[0m\u001b[0margs\u001b[0m\u001b[0;34m,\u001b[0m \u001b[0mkwargs\u001b[0m\u001b[0;34m,\u001b[0m \u001b[0mexc\u001b[0m\u001b[0;34m)\u001b[0m\u001b[0;34m:\u001b[0m\u001b[0;34m\u001b[0m\u001b[0;34m\u001b[0m\u001b[0m\n",
      "\u001b[0;32m~/miniforge3/envs/mori_opt_earnings/lib/python3.7/site-packages/altair/utils/data.py\u001b[0m in \u001b[0;36mlimit_rows\u001b[0;34m(data, max_rows)\u001b[0m\n\u001b[1;32m     82\u001b[0m             \u001b[0;34m\"than the maximum allowed ({}). \"\u001b[0m\u001b[0;34m\u001b[0m\u001b[0;34m\u001b[0m\u001b[0m\n\u001b[1;32m     83\u001b[0m             \u001b[0;34m\"For information on how to plot larger datasets \"\u001b[0m\u001b[0;34m\u001b[0m\u001b[0;34m\u001b[0m\u001b[0m\n\u001b[0;32m---> 84\u001b[0;31m             \u001b[0;34m\"in Altair, see the documentation\"\u001b[0m\u001b[0;34m.\u001b[0m\u001b[0mformat\u001b[0m\u001b[0;34m(\u001b[0m\u001b[0mmax_rows\u001b[0m\u001b[0;34m)\u001b[0m\u001b[0;34m\u001b[0m\u001b[0;34m\u001b[0m\u001b[0m\n\u001b[0m\u001b[1;32m     85\u001b[0m         )\n\u001b[1;32m     86\u001b[0m     \u001b[0;32mreturn\u001b[0m \u001b[0mdata\u001b[0m\u001b[0;34m\u001b[0m\u001b[0;34m\u001b[0m\u001b[0m\n",
      "\u001b[0;31mMaxRowsError\u001b[0m: The number of rows in your dataset is greater than the maximum allowed (5000). For information on how to plot larger datasets in Altair, see the documentation"
     ]
    },
    {
     "data": {
      "text/plain": [
       "alt.Chart(...)"
      ]
     },
     "execution_count": 50,
     "metadata": {},
     "output_type": "execute_result"
    }
   ],
   "source": [
    "returns_histogram(bt.balance)"
   ]
  },
  {
   "cell_type": "markdown",
   "metadata": {},
   "source": [
    "The backtest also supports an [sma](https://www.investopedia.com/terms/s/sma.asp) option. If the argument `sma_days` is passed to the `run` method with a value of n, on each rebalancing day the backtest will only buy shares of a stock symbol if its current price is above the sma of the last n days. To illustrate, we run the same backtest as before but with *sma_days = 30*."
   ]
  },
  {
   "cell_type": "code",
   "execution_count": 51,
   "metadata": {
    "ExecuteTime": {
     "end_time": "2022-07-04T05:18:15.676287Z",
     "start_time": "2022-07-04T05:17:45.906736Z"
    }
   },
   "outputs": [
    {
     "name": "stderr",
     "output_type": "stream",
     "text": [
      "0% [██████████████████████████████] 100% | ETA: 00:00:00\n",
      "Total time elapsed: 00:00:29\n"
     ]
    }
   ],
   "source": [
    "bt.run(rebalance_freq=1, sma_days=30);"
   ]
  },
  {
   "cell_type": "code",
   "execution_count": 52,
   "metadata": {
    "ExecuteTime": {
     "end_time": "2022-07-04T05:18:15.829742Z",
     "start_time": "2022-07-04T05:18:15.678122Z"
    }
   },
   "outputs": [
    {
     "data": {
      "image/png": "[encoded data removed]",
      "text/plain": [
       "<Figure size 1008x576 with 1 Axes>"
      ]
     },
     "metadata": {},
     "output_type": "display_data"
    }
   ],
   "source": [
    "bt.balance[[stock.symbol for stock in stocks]].plot();"
   ]
  },
  {
   "cell_type": "markdown",
   "metadata": {},
   "source": [
    "Notice how the capital held in certain symbols sometimes drops to zero, meaning on those months we did not buy shares of those symbols because their price was below the sma."
   ]
  },
  {
   "cell_type": "markdown",
   "metadata": {},
   "source": [
    "Finally, the daily returns column (`% change`) can be passed to the Quantopian library [pyfolio](https://github.com/quantopian/pyfolio) to obtain summary statistics and a few plots of the returns."
   ]
  },
  {
   "cell_type": "code",
   "execution_count": 53,
   "metadata": {
    "ExecuteTime": {
     "end_time": "2022-07-04T05:18:17.868307Z",
     "start_time": "2022-07-04T05:18:15.832353Z"
    }
   },
   "outputs": [
    {
     "name": "stderr",
     "output_type": "stream",
     "text": [
      "/home/wassname/miniforge3/envs/mori_opt_earnings/lib/python3.7/site-packages/empyrical/utils.py:442: UserWarning: Yahoo Finance read failed: 'date', falling back to Google\n",
      "  UserWarning)\n"
     ]
    },
    {
     "ename": "AttributeError",
     "evalue": "module 'pandas_datareader.data' has no attribute 'get_data_google'",
     "output_type": "error",
     "traceback": [
      "\u001b[0;31m---------------------------------------------------------------------------\u001b[0m",
      "\u001b[0;31mKeyError\u001b[0m                                  Traceback (most recent call last)",
      "\u001b[0;32m~/miniforge3/envs/mori_opt_earnings/lib/python3.7/site-packages/pandas/core/indexes/base.py\u001b[0m in \u001b[0;36mget_loc\u001b[0;34m(self, key, method, tolerance)\u001b[0m\n\u001b[1;32m   3360\u001b[0m             \u001b[0;32mtry\u001b[0m\u001b[0;34m:\u001b[0m\u001b[0;34m\u001b[0m\u001b[0;34m\u001b[0m\u001b[0m\n\u001b[0;32m-> 3361\u001b[0;31m                 \u001b[0;32mreturn\u001b[0m \u001b[0mself\u001b[0m\u001b[0;34m.\u001b[0m\u001b[0m_engine\u001b[0m\u001b[0;34m.\u001b[0m\u001b[0mget_loc\u001b[0m\u001b[0;34m(\u001b[0m\u001b[0mcasted_key\u001b[0m\u001b[0;34m)\u001b[0m\u001b[0;34m\u001b[0m\u001b[0;34m\u001b[0m\u001b[0m\n\u001b[0m\u001b[1;32m   3362\u001b[0m             \u001b[0;32mexcept\u001b[0m \u001b[0mKeyError\u001b[0m \u001b[0;32mas\u001b[0m \u001b[0merr\u001b[0m\u001b[0;34m:\u001b[0m\u001b[0;34m\u001b[0m\u001b[0;34m\u001b[0m\u001b[0m\n",
      "\u001b[0;32m~/miniforge3/envs/mori_opt_earnings/lib/python3.7/site-packages/pandas/_libs/index.pyx\u001b[0m in \u001b[0;36mpandas._libs.index.IndexEngine.get_loc\u001b[0;34m()\u001b[0m\n",
      "\u001b[0;32m~/miniforge3/envs/mori_opt_earnings/lib/python3.7/site-packages/pandas/_libs/index.pyx\u001b[0m in \u001b[0;36mpandas._libs.index.IndexEngine.get_loc\u001b[0;34m()\u001b[0m\n",
      "\u001b[0;32mpandas/_libs/hashtable_class_helper.pxi\u001b[0m in \u001b[0;36mpandas._libs.hashtable.PyObjectHashTable.get_item\u001b[0;34m()\u001b[0m\n",
      "\u001b[0;32mpandas/_libs/hashtable_class_helper.pxi\u001b[0m in \u001b[0;36mpandas._libs.hashtable.PyObjectHashTable.get_item\u001b[0;34m()\u001b[0m\n",
      "\u001b[0;31mKeyError\u001b[0m: 'date'",
      "\nThe above exception was the direct cause of the following exception:\n",
      "\u001b[0;31mKeyError\u001b[0m                                  Traceback (most recent call last)",
      "\u001b[0;32m~/miniforge3/envs/mori_opt_earnings/lib/python3.7/site-packages/empyrical/utils.py\u001b[0m in \u001b[0;36mget_symbol_returns_from_yahoo\u001b[0;34m(symbol, start, end)\u001b[0m\n\u001b[1;32m    435\u001b[0m         \u001b[0mpx\u001b[0m \u001b[0;34m=\u001b[0m \u001b[0mweb\u001b[0m\u001b[0;34m.\u001b[0m\u001b[0mget_data_yahoo\u001b[0m\u001b[0;34m(\u001b[0m\u001b[0msymbol\u001b[0m\u001b[0;34m,\u001b[0m \u001b[0mstart\u001b[0m\u001b[0;34m=\u001b[0m\u001b[0mstart\u001b[0m\u001b[0;34m,\u001b[0m \u001b[0mend\u001b[0m\u001b[0;34m=\u001b[0m\u001b[0mend\u001b[0m\u001b[0;34m)\u001b[0m\u001b[0;34m\u001b[0m\u001b[0;34m\u001b[0m\u001b[0m\n\u001b[0;32m--> 436\u001b[0;31m         \u001b[0mpx\u001b[0m\u001b[0;34m[\u001b[0m\u001b[0;34m'date'\u001b[0m\u001b[0;34m]\u001b[0m \u001b[0;34m=\u001b[0m \u001b[0mpd\u001b[0m\u001b[0;34m.\u001b[0m\u001b[0mto_datetime\u001b[0m\u001b[0;34m(\u001b[0m\u001b[0mpx\u001b[0m\u001b[0;34m[\u001b[0m\u001b[0;34m'date'\u001b[0m\u001b[0;34m]\u001b[0m\u001b[0;34m)\u001b[0m\u001b[0;34m\u001b[0m\u001b[0;34m\u001b[0m\u001b[0m\n\u001b[0m\u001b[1;32m    437\u001b[0m         \u001b[0mpx\u001b[0m\u001b[0;34m.\u001b[0m\u001b[0mset_index\u001b[0m\u001b[0;34m(\u001b[0m\u001b[0;34m'date'\u001b[0m\u001b[0;34m,\u001b[0m \u001b[0mdrop\u001b[0m\u001b[0;34m=\u001b[0m\u001b[0;32mFalse\u001b[0m\u001b[0;34m,\u001b[0m \u001b[0minplace\u001b[0m\u001b[0;34m=\u001b[0m\u001b[0;32mTrue\u001b[0m\u001b[0;34m)\u001b[0m\u001b[0;34m\u001b[0m\u001b[0;34m\u001b[0m\u001b[0m\n",
      "\u001b[0;32m~/miniforge3/envs/mori_opt_earnings/lib/python3.7/site-packages/pandas/core/frame.py\u001b[0m in \u001b[0;36m__getitem__\u001b[0;34m(self, key)\u001b[0m\n\u001b[1;32m   3457\u001b[0m                 \u001b[0;32mreturn\u001b[0m \u001b[0mself\u001b[0m\u001b[0;34m.\u001b[0m\u001b[0m_getitem_multilevel\u001b[0m\u001b[0;34m(\u001b[0m\u001b[0mkey\u001b[0m\u001b[0;34m)\u001b[0m\u001b[0;34m\u001b[0m\u001b[0;34m\u001b[0m\u001b[0m\n\u001b[0;32m-> 3458\u001b[0;31m             \u001b[0mindexer\u001b[0m \u001b[0;34m=\u001b[0m \u001b[0mself\u001b[0m\u001b[0;34m.\u001b[0m\u001b[0mcolumns\u001b[0m\u001b[0;34m.\u001b[0m\u001b[0mget_loc\u001b[0m\u001b[0;34m(\u001b[0m\u001b[0mkey\u001b[0m\u001b[0;34m)\u001b[0m\u001b[0;34m\u001b[0m\u001b[0;34m\u001b[0m\u001b[0m\n\u001b[0m\u001b[1;32m   3459\u001b[0m             \u001b[0;32mif\u001b[0m \u001b[0mis_integer\u001b[0m\u001b[0;34m(\u001b[0m\u001b[0mindexer\u001b[0m\u001b[0;34m)\u001b[0m\u001b[0;34m:\u001b[0m\u001b[0;34m\u001b[0m\u001b[0;34m\u001b[0m\u001b[0m\n",
      "\u001b[0;32m~/miniforge3/envs/mori_opt_earnings/lib/python3.7/site-packages/pandas/core/indexes/base.py\u001b[0m in \u001b[0;36mget_loc\u001b[0;34m(self, key, method, tolerance)\u001b[0m\n\u001b[1;32m   3362\u001b[0m             \u001b[0;32mexcept\u001b[0m \u001b[0mKeyError\u001b[0m \u001b[0;32mas\u001b[0m \u001b[0merr\u001b[0m\u001b[0;34m:\u001b[0m\u001b[0;34m\u001b[0m\u001b[0;34m\u001b[0m\u001b[0m\n\u001b[0;32m-> 3363\u001b[0;31m                 \u001b[0;32mraise\u001b[0m \u001b[0mKeyError\u001b[0m\u001b[0;34m(\u001b[0m\u001b[0mkey\u001b[0m\u001b[0;34m)\u001b[0m \u001b[0;32mfrom\u001b[0m \u001b[0merr\u001b[0m\u001b[0;34m\u001b[0m\u001b[0;34m\u001b[0m\u001b[0m\n\u001b[0m\u001b[1;32m   3364\u001b[0m \u001b[0;34m\u001b[0m\u001b[0m\n",
      "\u001b[0;31mKeyError\u001b[0m: 'date'",
      "\nDuring handling of the above exception, another exception occurred:\n",
      "\u001b[0;31mAttributeError\u001b[0m                            Traceback (most recent call last)",
      "\u001b[0;32m/tmp/ipykernel_1862594/2665695955.py\u001b[0m in \u001b[0;36m<module>\u001b[0;34m\u001b[0m\n\u001b[0;32m----> 1\u001b[0;31m \u001b[0mpf\u001b[0m\u001b[0;34m.\u001b[0m\u001b[0mcreate_returns_tear_sheet\u001b[0m\u001b[0;34m(\u001b[0m\u001b[0mreturns\u001b[0m \u001b[0;34m=\u001b[0m  \u001b[0mbt\u001b[0m\u001b[0;34m.\u001b[0m\u001b[0mbalance\u001b[0m\u001b[0;34m[\u001b[0m\u001b[0;34m'% change'\u001b[0m\u001b[0;34m]\u001b[0m\u001b[0;34m.\u001b[0m\u001b[0mdropna\u001b[0m\u001b[0;34m(\u001b[0m\u001b[0;34m)\u001b[0m\u001b[0;34m)\u001b[0m\u001b[0;34m\u001b[0m\u001b[0;34m\u001b[0m\u001b[0m\n\u001b[0m",
      "\u001b[0;32m~/miniforge3/envs/mori_opt_earnings/lib/python3.7/site-packages/pyfolio/plotting.py\u001b[0m in \u001b[0;36mcall_w_context\u001b[0;34m(*args, **kwargs)\u001b[0m\n\u001b[1;32m     50\u001b[0m         \u001b[0;32mif\u001b[0m \u001b[0mset_context\u001b[0m\u001b[0;34m:\u001b[0m\u001b[0;34m\u001b[0m\u001b[0;34m\u001b[0m\u001b[0m\n\u001b[1;32m     51\u001b[0m             \u001b[0;32mwith\u001b[0m \u001b[0mplotting_context\u001b[0m\u001b[0;34m(\u001b[0m\u001b[0;34m)\u001b[0m\u001b[0;34m,\u001b[0m \u001b[0maxes_style\u001b[0m\u001b[0;34m(\u001b[0m\u001b[0;34m)\u001b[0m\u001b[0;34m:\u001b[0m\u001b[0;34m\u001b[0m\u001b[0;34m\u001b[0m\u001b[0m\n\u001b[0;32m---> 52\u001b[0;31m                 \u001b[0;32mreturn\u001b[0m \u001b[0mfunc\u001b[0m\u001b[0;34m(\u001b[0m\u001b[0;34m*\u001b[0m\u001b[0margs\u001b[0m\u001b[0;34m,\u001b[0m \u001b[0;34m**\u001b[0m\u001b[0mkwargs\u001b[0m\u001b[0;34m)\u001b[0m\u001b[0;34m\u001b[0m\u001b[0;34m\u001b[0m\u001b[0m\n\u001b[0m\u001b[1;32m     53\u001b[0m         \u001b[0;32melse\u001b[0m\u001b[0;34m:\u001b[0m\u001b[0;34m\u001b[0m\u001b[0;34m\u001b[0m\u001b[0m\n\u001b[1;32m     54\u001b[0m             \u001b[0;32mreturn\u001b[0m \u001b[0mfunc\u001b[0m\u001b[0;34m(\u001b[0m\u001b[0;34m*\u001b[0m\u001b[0margs\u001b[0m\u001b[0;34m,\u001b[0m \u001b[0;34m**\u001b[0m\u001b[0mkwargs\u001b[0m\u001b[0;34m)\u001b[0m\u001b[0;34m\u001b[0m\u001b[0;34m\u001b[0m\u001b[0m\n",
      "\u001b[0;32m~/miniforge3/envs/mori_opt_earnings/lib/python3.7/site-packages/pyfolio/tears.py\u001b[0m in \u001b[0;36mcreate_returns_tear_sheet\u001b[0;34m(returns, positions, transactions, live_start_date, cone_std, benchmark_rets, bootstrap, return_fig)\u001b[0m\n\u001b[1;32m    442\u001b[0m \u001b[0;34m\u001b[0m\u001b[0m\n\u001b[1;32m    443\u001b[0m     \u001b[0;32mif\u001b[0m \u001b[0mbenchmark_rets\u001b[0m \u001b[0;32mis\u001b[0m \u001b[0;32mNone\u001b[0m\u001b[0;34m:\u001b[0m\u001b[0;34m\u001b[0m\u001b[0;34m\u001b[0m\u001b[0m\n\u001b[0;32m--> 444\u001b[0;31m         \u001b[0mbenchmark_rets\u001b[0m \u001b[0;34m=\u001b[0m \u001b[0mutils\u001b[0m\u001b[0;34m.\u001b[0m\u001b[0mget_symbol_rets\u001b[0m\u001b[0;34m(\u001b[0m\u001b[0;34m'SPY'\u001b[0m\u001b[0;34m)\u001b[0m\u001b[0;34m\u001b[0m\u001b[0;34m\u001b[0m\u001b[0m\n\u001b[0m\u001b[1;32m    445\u001b[0m \u001b[0;34m\u001b[0m\u001b[0m\n\u001b[1;32m    446\u001b[0m     \u001b[0mreturns\u001b[0m \u001b[0;34m=\u001b[0m \u001b[0mreturns\u001b[0m\u001b[0;34m[\u001b[0m\u001b[0mreturns\u001b[0m\u001b[0;34m.\u001b[0m\u001b[0mindex\u001b[0m \u001b[0;34m>\u001b[0m \u001b[0mbenchmark_rets\u001b[0m\u001b[0;34m.\u001b[0m\u001b[0mindex\u001b[0m\u001b[0;34m[\u001b[0m\u001b[0;36m0\u001b[0m\u001b[0;34m]\u001b[0m\u001b[0;34m]\u001b[0m\u001b[0;34m\u001b[0m\u001b[0;34m\u001b[0m\u001b[0m\n",
      "\u001b[0;32m~/miniforge3/envs/mori_opt_earnings/lib/python3.7/site-packages/pyfolio/utils.py\u001b[0m in \u001b[0;36mget_symbol_rets\u001b[0;34m(symbol, start, end)\u001b[0m\n\u001b[1;32m    598\u001b[0m     return SETTINGS['returns_func'](symbol,\n\u001b[1;32m    599\u001b[0m                                     \u001b[0mstart\u001b[0m\u001b[0;34m=\u001b[0m\u001b[0mstart\u001b[0m\u001b[0;34m,\u001b[0m\u001b[0;34m\u001b[0m\u001b[0;34m\u001b[0m\u001b[0m\n\u001b[0;32m--> 600\u001b[0;31m                                     end=end)\n\u001b[0m",
      "\u001b[0;32m~/miniforge3/envs/mori_opt_earnings/lib/python3.7/site-packages/pyfolio/deprecate.py\u001b[0m in \u001b[0;36mwrapper\u001b[0;34m(*args, **kwargs)\u001b[0m\n\u001b[1;32m     41\u001b[0m                 \u001b[0mstacklevel\u001b[0m\u001b[0;34m=\u001b[0m\u001b[0mstacklevel\u001b[0m\u001b[0;34m\u001b[0m\u001b[0;34m\u001b[0m\u001b[0m\n\u001b[1;32m     42\u001b[0m             )\n\u001b[0;32m---> 43\u001b[0;31m             \u001b[0;32mreturn\u001b[0m \u001b[0mfn\u001b[0m\u001b[0;34m(\u001b[0m\u001b[0;34m*\u001b[0m\u001b[0margs\u001b[0m\u001b[0;34m,\u001b[0m \u001b[0;34m**\u001b[0m\u001b[0mkwargs\u001b[0m\u001b[0;34m)\u001b[0m\u001b[0;34m\u001b[0m\u001b[0;34m\u001b[0m\u001b[0m\n\u001b[0m\u001b[1;32m     44\u001b[0m         \u001b[0;32mreturn\u001b[0m \u001b[0mwrapper\u001b[0m\u001b[0;34m\u001b[0m\u001b[0;34m\u001b[0m\u001b[0m\n\u001b[1;32m     45\u001b[0m     \u001b[0;32mreturn\u001b[0m \u001b[0mdeprecated_dec\u001b[0m\u001b[0;34m\u001b[0m\u001b[0;34m\u001b[0m\u001b[0m\n",
      "\u001b[0;32m~/miniforge3/envs/mori_opt_earnings/lib/python3.7/site-packages/pyfolio/utils.py\u001b[0m in \u001b[0;36mdefault_returns_func\u001b[0;34m(symbol, start, end)\u001b[0m\n\u001b[1;32m    399\u001b[0m          \u001b[0;34m-\u001b[0m \u001b[0mSee\u001b[0m \u001b[0mfull\u001b[0m \u001b[0mexplanation\u001b[0m \u001b[0;32min\u001b[0m \u001b[0mtears\u001b[0m\u001b[0;34m.\u001b[0m\u001b[0mcreate_full_tear_sheet\u001b[0m \u001b[0;34m(\u001b[0m\u001b[0mreturns\u001b[0m\u001b[0;34m)\u001b[0m\u001b[0;34m.\u001b[0m\u001b[0;34m\u001b[0m\u001b[0;34m\u001b[0m\u001b[0m\n\u001b[1;32m    400\u001b[0m     \"\"\"\n\u001b[0;32m--> 401\u001b[0;31m     \u001b[0;32mreturn\u001b[0m \u001b[0mempyrical\u001b[0m\u001b[0;34m.\u001b[0m\u001b[0mutils\u001b[0m\u001b[0;34m.\u001b[0m\u001b[0mdefault_returns_func\u001b[0m\u001b[0;34m(\u001b[0m\u001b[0msymbol\u001b[0m\u001b[0;34m,\u001b[0m \u001b[0mstart\u001b[0m\u001b[0;34m=\u001b[0m\u001b[0;32mNone\u001b[0m\u001b[0;34m,\u001b[0m \u001b[0mend\u001b[0m\u001b[0;34m=\u001b[0m\u001b[0;32mNone\u001b[0m\u001b[0;34m)\u001b[0m\u001b[0;34m\u001b[0m\u001b[0;34m\u001b[0m\u001b[0m\n\u001b[0m\u001b[1;32m    402\u001b[0m \u001b[0;34m\u001b[0m\u001b[0m\n\u001b[1;32m    403\u001b[0m \u001b[0;34m\u001b[0m\u001b[0m\n",
      "\u001b[0;32m~/miniforge3/envs/mori_opt_earnings/lib/python3.7/site-packages/empyrical/deprecate.py\u001b[0m in \u001b[0;36mwrapper\u001b[0;34m(*args, **kwargs)\u001b[0m\n\u001b[1;32m     41\u001b[0m                 \u001b[0mstacklevel\u001b[0m\u001b[0;34m=\u001b[0m\u001b[0mstacklevel\u001b[0m\u001b[0;34m\u001b[0m\u001b[0;34m\u001b[0m\u001b[0m\n\u001b[1;32m     42\u001b[0m             )\n\u001b[0;32m---> 43\u001b[0;31m             \u001b[0;32mreturn\u001b[0m \u001b[0mfn\u001b[0m\u001b[0;34m(\u001b[0m\u001b[0;34m*\u001b[0m\u001b[0margs\u001b[0m\u001b[0;34m,\u001b[0m \u001b[0;34m**\u001b[0m\u001b[0mkwargs\u001b[0m\u001b[0;34m)\u001b[0m\u001b[0;34m\u001b[0m\u001b[0;34m\u001b[0m\u001b[0m\n\u001b[0m\u001b[1;32m     44\u001b[0m         \u001b[0;32mreturn\u001b[0m \u001b[0mwrapper\u001b[0m\u001b[0;34m\u001b[0m\u001b[0;34m\u001b[0m\u001b[0m\n\u001b[1;32m     45\u001b[0m     \u001b[0;32mreturn\u001b[0m \u001b[0mdeprecated_dec\u001b[0m\u001b[0;34m\u001b[0m\u001b[0;34m\u001b[0m\u001b[0m\n",
      "\u001b[0;32m~/miniforge3/envs/mori_opt_earnings/lib/python3.7/site-packages/empyrical/utils.py\u001b[0m in \u001b[0;36mdefault_returns_func\u001b[0;34m(symbol, start, end)\u001b[0m\n\u001b[1;32m    488\u001b[0m                                   \u001b[0msymbol\u001b[0m\u001b[0;34m=\u001b[0m\u001b[0;34m'SPY'\u001b[0m\u001b[0;34m,\u001b[0m\u001b[0;34m\u001b[0m\u001b[0;34m\u001b[0m\u001b[0m\n\u001b[1;32m    489\u001b[0m                                   \u001b[0mstart\u001b[0m\u001b[0;34m=\u001b[0m\u001b[0;34m'1/1/1970'\u001b[0m\u001b[0;34m,\u001b[0m\u001b[0;34m\u001b[0m\u001b[0;34m\u001b[0m\u001b[0m\n\u001b[0;32m--> 490\u001b[0;31m                                   end=datetime.now())\n\u001b[0m\u001b[1;32m    491\u001b[0m         \u001b[0mrets\u001b[0m \u001b[0;34m=\u001b[0m \u001b[0mrets\u001b[0m\u001b[0;34m[\u001b[0m\u001b[0mstart\u001b[0m\u001b[0;34m:\u001b[0m\u001b[0mend\u001b[0m\u001b[0;34m]\u001b[0m\u001b[0;34m\u001b[0m\u001b[0;34m\u001b[0m\u001b[0m\n\u001b[1;32m    492\u001b[0m     \u001b[0;32melse\u001b[0m\u001b[0;34m:\u001b[0m\u001b[0;34m\u001b[0m\u001b[0;34m\u001b[0m\u001b[0m\n",
      "\u001b[0;32m~/miniforge3/envs/mori_opt_earnings/lib/python3.7/site-packages/empyrical/deprecate.py\u001b[0m in \u001b[0;36mwrapper\u001b[0;34m(*args, **kwargs)\u001b[0m\n\u001b[1;32m     41\u001b[0m                 \u001b[0mstacklevel\u001b[0m\u001b[0;34m=\u001b[0m\u001b[0mstacklevel\u001b[0m\u001b[0;34m\u001b[0m\u001b[0;34m\u001b[0m\u001b[0m\n\u001b[1;32m     42\u001b[0m             )\n\u001b[0;32m---> 43\u001b[0;31m             \u001b[0;32mreturn\u001b[0m \u001b[0mfn\u001b[0m\u001b[0;34m(\u001b[0m\u001b[0;34m*\u001b[0m\u001b[0margs\u001b[0m\u001b[0;34m,\u001b[0m \u001b[0;34m**\u001b[0m\u001b[0mkwargs\u001b[0m\u001b[0;34m)\u001b[0m\u001b[0;34m\u001b[0m\u001b[0;34m\u001b[0m\u001b[0m\n\u001b[0m\u001b[1;32m     44\u001b[0m         \u001b[0;32mreturn\u001b[0m \u001b[0mwrapper\u001b[0m\u001b[0;34m\u001b[0m\u001b[0;34m\u001b[0m\u001b[0m\n\u001b[1;32m     45\u001b[0m     \u001b[0;32mreturn\u001b[0m \u001b[0mdeprecated_dec\u001b[0m\u001b[0;34m\u001b[0m\u001b[0;34m\u001b[0m\u001b[0m\n",
      "\u001b[0;32m~/miniforge3/envs/mori_opt_earnings/lib/python3.7/site-packages/empyrical/utils.py\u001b[0m in \u001b[0;36mget_returns_cached\u001b[0;34m(filepath, update_func, latest_dt, **kwargs)\u001b[0m\n\u001b[1;32m    322\u001b[0m \u001b[0;34m\u001b[0m\u001b[0m\n\u001b[1;32m    323\u001b[0m     \u001b[0;32mif\u001b[0m \u001b[0mupdate_cache\u001b[0m\u001b[0;34m:\u001b[0m\u001b[0;34m\u001b[0m\u001b[0;34m\u001b[0m\u001b[0m\n\u001b[0;32m--> 324\u001b[0;31m         \u001b[0mreturns\u001b[0m \u001b[0;34m=\u001b[0m \u001b[0mupdate_func\u001b[0m\u001b[0;34m(\u001b[0m\u001b[0;34m**\u001b[0m\u001b[0mkwargs\u001b[0m\u001b[0;34m)\u001b[0m\u001b[0;34m\u001b[0m\u001b[0;34m\u001b[0m\u001b[0m\n\u001b[0m\u001b[1;32m    325\u001b[0m         \u001b[0;32mtry\u001b[0m\u001b[0;34m:\u001b[0m\u001b[0;34m\u001b[0m\u001b[0;34m\u001b[0m\u001b[0m\n\u001b[1;32m    326\u001b[0m             \u001b[0mensure_directory\u001b[0m\u001b[0;34m(\u001b[0m\u001b[0mcache_dir\u001b[0m\u001b[0;34m(\u001b[0m\u001b[0;34m)\u001b[0m\u001b[0;34m)\u001b[0m\u001b[0;34m\u001b[0m\u001b[0;34m\u001b[0m\u001b[0m\n",
      "\u001b[0;32m~/miniforge3/envs/mori_opt_earnings/lib/python3.7/site-packages/empyrical/deprecate.py\u001b[0m in \u001b[0;36mwrapper\u001b[0;34m(*args, **kwargs)\u001b[0m\n\u001b[1;32m     41\u001b[0m                 \u001b[0mstacklevel\u001b[0m\u001b[0;34m=\u001b[0m\u001b[0mstacklevel\u001b[0m\u001b[0;34m\u001b[0m\u001b[0;34m\u001b[0m\u001b[0m\n\u001b[1;32m     42\u001b[0m             )\n\u001b[0;32m---> 43\u001b[0;31m             \u001b[0;32mreturn\u001b[0m \u001b[0mfn\u001b[0m\u001b[0;34m(\u001b[0m\u001b[0;34m*\u001b[0m\u001b[0margs\u001b[0m\u001b[0;34m,\u001b[0m \u001b[0;34m**\u001b[0m\u001b[0mkwargs\u001b[0m\u001b[0;34m)\u001b[0m\u001b[0;34m\u001b[0m\u001b[0;34m\u001b[0m\u001b[0m\n\u001b[0m\u001b[1;32m     44\u001b[0m         \u001b[0;32mreturn\u001b[0m \u001b[0mwrapper\u001b[0m\u001b[0;34m\u001b[0m\u001b[0;34m\u001b[0m\u001b[0m\n\u001b[1;32m     45\u001b[0m     \u001b[0;32mreturn\u001b[0m \u001b[0mdeprecated_dec\u001b[0m\u001b[0;34m\u001b[0m\u001b[0;34m\u001b[0m\u001b[0m\n",
      "\u001b[0;32m~/miniforge3/envs/mori_opt_earnings/lib/python3.7/site-packages/empyrical/utils.py\u001b[0m in \u001b[0;36mget_symbol_returns_from_yahoo\u001b[0;34m(symbol, start, end)\u001b[0m\n\u001b[1;32m    441\u001b[0m             \u001b[0;34m'Yahoo Finance read failed: {}, falling back to Google'\u001b[0m\u001b[0;34m.\u001b[0m\u001b[0mformat\u001b[0m\u001b[0;34m(\u001b[0m\u001b[0me\u001b[0m\u001b[0;34m)\u001b[0m\u001b[0;34m,\u001b[0m\u001b[0;34m\u001b[0m\u001b[0;34m\u001b[0m\u001b[0m\n\u001b[1;32m    442\u001b[0m             UserWarning)\n\u001b[0;32m--> 443\u001b[0;31m         \u001b[0mpx\u001b[0m \u001b[0;34m=\u001b[0m \u001b[0mweb\u001b[0m\u001b[0;34m.\u001b[0m\u001b[0mget_data_google\u001b[0m\u001b[0;34m(\u001b[0m\u001b[0msymbol\u001b[0m\u001b[0;34m,\u001b[0m \u001b[0mstart\u001b[0m\u001b[0;34m=\u001b[0m\u001b[0mstart\u001b[0m\u001b[0;34m,\u001b[0m \u001b[0mend\u001b[0m\u001b[0;34m=\u001b[0m\u001b[0mend\u001b[0m\u001b[0;34m)\u001b[0m\u001b[0;34m\u001b[0m\u001b[0;34m\u001b[0m\u001b[0m\n\u001b[0m\u001b[1;32m    444\u001b[0m         \u001b[0mrets\u001b[0m \u001b[0;34m=\u001b[0m \u001b[0mpx\u001b[0m\u001b[0;34m[\u001b[0m\u001b[0;34m[\u001b[0m\u001b[0;34m'Close'\u001b[0m\u001b[0;34m]\u001b[0m\u001b[0;34m]\u001b[0m\u001b[0;34m.\u001b[0m\u001b[0mpct_change\u001b[0m\u001b[0;34m(\u001b[0m\u001b[0;34m)\u001b[0m\u001b[0;34m.\u001b[0m\u001b[0mdropna\u001b[0m\u001b[0;34m(\u001b[0m\u001b[0;34m)\u001b[0m\u001b[0;34m\u001b[0m\u001b[0;34m\u001b[0m\u001b[0m\n\u001b[1;32m    445\u001b[0m \u001b[0;34m\u001b[0m\u001b[0m\n",
      "\u001b[0;31mAttributeError\u001b[0m: module 'pandas_datareader.data' has no attribute 'get_data_google'"
     ]
    }
   ],
   "source": [
    "pf.create_returns_tear_sheet(returns =  bt.balance['% change'].dropna())"
   ]
  },
  {
   "cell_type": "code",
   "execution_count": null,
   "metadata": {},
   "outputs": [],
   "source": []
  }
 ],
 "metadata": {
  "kernelspec": {
   "display_name": "mori_opt_earnings",
   "language": "python",
   "name": "mori_opt_earnings"
  },
  "language_info": {
   "codemirror_mode": {
    "name": "ipython",
    "version": 3
   },
   "file_extension": ".py",
   "mimetype": "text/x-python",
   "name": "python",
   "nbconvert_exporter": "python",
   "pygments_lexer": "ipython3",
   "version": "3.7.12"
  },
  "toc": {
   "base_numbering": 1,
   "nav_menu": {},
   "number_sections": true,
   "sideBar": true,
   "skip_h1_title": false,
   "title_cell": "Table of Contents",
   "title_sidebar": "Contents",
   "toc_cell": false,
   "toc_position": {},
   "toc_section_display": true,
   "toc_window_display": true
  },
  "vscode": {
   "interpreter": {
    "hash": "5f240fc2556f2c8886dbaeac6719c5fab937de8da87a8f19707c855273916c42"
   }
  }
 },
 "nbformat": 4,
 "nbformat_minor": 4
}
